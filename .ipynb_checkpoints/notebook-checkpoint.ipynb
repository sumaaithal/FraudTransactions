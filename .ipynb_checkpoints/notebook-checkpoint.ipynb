{
 "cells": [
  {
   "cell_type": "markdown",
   "id": "64f7bf73-4b2b-45be-99d1-0123f1773e50",
   "metadata": {},
   "source": [
    "## Fraud transaction"
   ]
  },
  {
   "cell_type": "markdown",
   "id": "ff8f7a10-9827-4f6c-bc67-14d514ab2a8a",
   "metadata": {},
   "source": [
    "#### Import Required Libraries"
   ]
  },
  {
   "cell_type": "code",
   "execution_count": 104,
   "id": "24e9f89a-448a-4855-8d52-cba21926440e",
   "metadata": {},
   "outputs": [],
   "source": [
    "import pandas as pd\n",
    "import numpy as np\n",
    "import matplotlib.pyplot as plt\n",
    "import seaborn as sns\n",
    "from sklearn.linear_model import LogisticRegression\n",
    "from sklearn.metrics import confusion_matrix, classification_report, accuracy_score\n",
    "from sklearn.model_selection import train_test_split, KFold,GridSearchCV\n",
    "from sklearn.preprocessing import MinMaxScaler\n",
    "from sklearn.tree import DecisionTreeClassifier\n",
    "from sklearn.ensemble import RandomForestClassifier, AdaBoostClassifier, GradientBoostingClassifier\n",
    "from itertools import combinations,product"
   ]
  },
  {
   "cell_type": "markdown",
   "id": "5277dd3c-166c-4616-880c-a3a76713af93",
   "metadata": {},
   "source": [
    "### Read the data\n",
    "###### note: if lines=True is not used, we get trailing error"
   ]
  },
  {
   "cell_type": "code",
   "execution_count": 4,
   "id": "be9bfe74-dcec-40cd-8b08-df1d8ae3c6e0",
   "metadata": {},
   "outputs": [
    {
     "data": {
      "text/html": [
       "<div>\n",
       "<style scoped>\n",
       "    .dataframe tbody tr th:only-of-type {\n",
       "        vertical-align: middle;\n",
       "    }\n",
       "\n",
       "    .dataframe tbody tr th {\n",
       "        vertical-align: top;\n",
       "    }\n",
       "\n",
       "    .dataframe thead th {\n",
       "        text-align: right;\n",
       "    }\n",
       "</style>\n",
       "<table border=\"1\" class=\"dataframe\">\n",
       "  <thead>\n",
       "    <tr style=\"text-align: right;\">\n",
       "      <th></th>\n",
       "      <th>TransactionID</th>\n",
       "      <th>Amount</th>\n",
       "      <th>TransactionType</th>\n",
       "      <th>IsInternational</th>\n",
       "      <th>CardHolderAge</th>\n",
       "      <th>FraudReported</th>\n",
       "    </tr>\n",
       "  </thead>\n",
       "  <tbody>\n",
       "    <tr>\n",
       "      <th>0</th>\n",
       "      <td>30001</td>\n",
       "      <td>36.25</td>\n",
       "      <td>Online</td>\n",
       "      <td>No</td>\n",
       "      <td>30</td>\n",
       "      <td>Yes</td>\n",
       "    </tr>\n",
       "    <tr>\n",
       "      <th>1</th>\n",
       "      <td>30002</td>\n",
       "      <td>589.92</td>\n",
       "      <td>Online</td>\n",
       "      <td>No</td>\n",
       "      <td>45</td>\n",
       "      <td>Yes</td>\n",
       "    </tr>\n",
       "    <tr>\n",
       "      <th>2</th>\n",
       "      <td>30003</td>\n",
       "      <td>940.83</td>\n",
       "      <td>Online</td>\n",
       "      <td>Yes</td>\n",
       "      <td>66</td>\n",
       "      <td>No</td>\n",
       "    </tr>\n",
       "    <tr>\n",
       "      <th>3</th>\n",
       "      <td>30004</td>\n",
       "      <td>579.72</td>\n",
       "      <td>ATM</td>\n",
       "      <td>Yes</td>\n",
       "      <td>42</td>\n",
       "      <td>No</td>\n",
       "    </tr>\n",
       "    <tr>\n",
       "      <th>4</th>\n",
       "      <td>30005</td>\n",
       "      <td>394.29</td>\n",
       "      <td>Online</td>\n",
       "      <td>Yes</td>\n",
       "      <td>50</td>\n",
       "      <td>Yes</td>\n",
       "    </tr>\n",
       "  </tbody>\n",
       "</table>\n",
       "</div>"
      ],
      "text/plain": [
       "   TransactionID  Amount TransactionType IsInternational  CardHolderAge  \\\n",
       "0          30001   36.25          Online              No             30   \n",
       "1          30002  589.92          Online              No             45   \n",
       "2          30003  940.83          Online             Yes             66   \n",
       "3          30004  579.72             ATM             Yes             42   \n",
       "4          30005  394.29          Online             Yes             50   \n",
       "\n",
       "  FraudReported  \n",
       "0           Yes  \n",
       "1           Yes  \n",
       "2            No  \n",
       "3            No  \n",
       "4           Yes  "
      ]
     },
     "execution_count": 4,
     "metadata": {},
     "output_type": "execute_result"
    }
   ],
   "source": [
    "fraud = pd.read_json(\"fraud_transactions.json\", lines=True)\n",
    "fraud.head()"
   ]
  },
  {
   "cell_type": "markdown",
   "id": "ee6e3ba3-fcfe-4ade-a557-a37e5bed636c",
   "metadata": {},
   "source": [
    "#### Since TransactionId is not relavant, we could drop it"
   ]
  },
  {
   "cell_type": "code",
   "execution_count": 6,
   "id": "31bc46e5-33b1-40b0-8c43-9d0af28d682d",
   "metadata": {},
   "outputs": [
    {
     "data": {
      "text/html": [
       "<div>\n",
       "<style scoped>\n",
       "    .dataframe tbody tr th:only-of-type {\n",
       "        vertical-align: middle;\n",
       "    }\n",
       "\n",
       "    .dataframe tbody tr th {\n",
       "        vertical-align: top;\n",
       "    }\n",
       "\n",
       "    .dataframe thead th {\n",
       "        text-align: right;\n",
       "    }\n",
       "</style>\n",
       "<table border=\"1\" class=\"dataframe\">\n",
       "  <thead>\n",
       "    <tr style=\"text-align: right;\">\n",
       "      <th></th>\n",
       "      <th>Amount</th>\n",
       "      <th>TransactionType</th>\n",
       "      <th>IsInternational</th>\n",
       "      <th>CardHolderAge</th>\n",
       "      <th>FraudReported</th>\n",
       "    </tr>\n",
       "  </thead>\n",
       "  <tbody>\n",
       "    <tr>\n",
       "      <th>0</th>\n",
       "      <td>36.25</td>\n",
       "      <td>Online</td>\n",
       "      <td>No</td>\n",
       "      <td>30</td>\n",
       "      <td>Yes</td>\n",
       "    </tr>\n",
       "    <tr>\n",
       "      <th>1</th>\n",
       "      <td>589.92</td>\n",
       "      <td>Online</td>\n",
       "      <td>No</td>\n",
       "      <td>45</td>\n",
       "      <td>Yes</td>\n",
       "    </tr>\n",
       "  </tbody>\n",
       "</table>\n",
       "</div>"
      ],
      "text/plain": [
       "   Amount TransactionType IsInternational  CardHolderAge FraudReported\n",
       "0   36.25          Online              No             30           Yes\n",
       "1  589.92          Online              No             45           Yes"
      ]
     },
     "execution_count": 6,
     "metadata": {},
     "output_type": "execute_result"
    }
   ],
   "source": [
    "fraud = fraud.drop('TransactionID',axis=1)\n",
    "fraud.head(2)"
   ]
  },
  {
   "cell_type": "markdown",
   "id": "9ca72bf8-d87c-4d1b-9658-9d28cd5a0563",
   "metadata": {},
   "source": [
    "### Exploratory Data Analysis"
   ]
  },
  {
   "cell_type": "code",
   "execution_count": 8,
   "id": "4b1e8540-a790-4a6a-97f6-8a07ad14609a",
   "metadata": {},
   "outputs": [
    {
     "data": {
      "text/plain": [
       "Amount             0\n",
       "TransactionType    0\n",
       "IsInternational    0\n",
       "CardHolderAge      0\n",
       "FraudReported      0\n",
       "dtype: int64"
      ]
     },
     "execution_count": 8,
     "metadata": {},
     "output_type": "execute_result"
    }
   ],
   "source": [
    "### Check for null values\n",
    "fraud.isna().sum()"
   ]
  },
  {
   "cell_type": "code",
   "execution_count": 10,
   "id": "6843581f-d713-432b-bdb6-316dc169093a",
   "metadata": {},
   "outputs": [
    {
     "data": {
      "text/plain": [
       "Amount             float64\n",
       "TransactionType     object\n",
       "IsInternational     object\n",
       "CardHolderAge        int64\n",
       "FraudReported       object\n",
       "dtype: object"
      ]
     },
     "execution_count": 10,
     "metadata": {},
     "output_type": "execute_result"
    }
   ],
   "source": [
    "### Check for data types\n",
    "fraud.dtypes"
   ]
  },
  {
   "cell_type": "code",
   "execution_count": 12,
   "id": "7f472da2-d56e-42e4-b4e3-1dfe387e5b2d",
   "metadata": {},
   "outputs": [
    {
     "data": {
      "text/html": [
       "<div>\n",
       "<style scoped>\n",
       "    .dataframe tbody tr th:only-of-type {\n",
       "        vertical-align: middle;\n",
       "    }\n",
       "\n",
       "    .dataframe tbody tr th {\n",
       "        vertical-align: top;\n",
       "    }\n",
       "\n",
       "    .dataframe thead th {\n",
       "        text-align: right;\n",
       "    }\n",
       "</style>\n",
       "<table border=\"1\" class=\"dataframe\">\n",
       "  <thead>\n",
       "    <tr style=\"text-align: right;\">\n",
       "      <th></th>\n",
       "      <th>Amount</th>\n",
       "      <th>CardHolderAge</th>\n",
       "    </tr>\n",
       "  </thead>\n",
       "  <tbody>\n",
       "    <tr>\n",
       "      <th>count</th>\n",
       "      <td>50.000000</td>\n",
       "      <td>50.000000</td>\n",
       "    </tr>\n",
       "    <tr>\n",
       "      <th>mean</th>\n",
       "      <td>543.004000</td>\n",
       "      <td>42.640000</td>\n",
       "    </tr>\n",
       "    <tr>\n",
       "      <th>std</th>\n",
       "      <td>309.321324</td>\n",
       "      <td>13.707975</td>\n",
       "    </tr>\n",
       "    <tr>\n",
       "      <th>min</th>\n",
       "      <td>28.040000</td>\n",
       "      <td>18.000000</td>\n",
       "    </tr>\n",
       "    <tr>\n",
       "      <th>25%</th>\n",
       "      <td>298.355000</td>\n",
       "      <td>31.250000</td>\n",
       "    </tr>\n",
       "    <tr>\n",
       "      <th>50%</th>\n",
       "      <td>584.820000</td>\n",
       "      <td>42.500000</td>\n",
       "    </tr>\n",
       "    <tr>\n",
       "      <th>75%</th>\n",
       "      <td>814.432500</td>\n",
       "      <td>53.000000</td>\n",
       "    </tr>\n",
       "    <tr>\n",
       "      <th>max</th>\n",
       "      <td>990.600000</td>\n",
       "      <td>67.000000</td>\n",
       "    </tr>\n",
       "  </tbody>\n",
       "</table>\n",
       "</div>"
      ],
      "text/plain": [
       "           Amount  CardHolderAge\n",
       "count   50.000000      50.000000\n",
       "mean   543.004000      42.640000\n",
       "std    309.321324      13.707975\n",
       "min     28.040000      18.000000\n",
       "25%    298.355000      31.250000\n",
       "50%    584.820000      42.500000\n",
       "75%    814.432500      53.000000\n",
       "max    990.600000      67.000000"
      ]
     },
     "execution_count": 12,
     "metadata": {},
     "output_type": "execute_result"
    }
   ],
   "source": [
    "### Check for descriptive statistics \n",
    "fraud.describe()"
   ]
  },
  {
   "cell_type": "markdown",
   "id": "09d6a0cf-cb81-474f-9c32-9790fd08673c",
   "metadata": {},
   "source": [
    "###### Cardholder Min age is 18 and max age is 67 with median of 52\n",
    "###### Min amount is 28 and max amount is 990 with median of 584"
   ]
  },
  {
   "cell_type": "markdown",
   "id": "618f0909-dd9a-4ccd-96fd-a35f73b94ba9",
   "metadata": {},
   "source": [
    "##### Distribution of Amount"
   ]
  },
  {
   "cell_type": "code",
   "execution_count": 15,
   "id": "e0eba01f-6c2e-403c-a3df-ca3e2ea3f443",
   "metadata": {},
   "outputs": [
    {
     "data": {
      "image/png": "[encoded data removed]",
      "text/plain": [
       "<Figure size 640x480 with 1 Axes>"
      ]
     },
     "metadata": {},
     "output_type": "display_data"
    }
   ],
   "source": [
    "sns.kdeplot(data=fraud, x='Amount')\n",
    "plt.show()"
   ]
  },
  {
   "cell_type": "markdown",
   "id": "2a6786cd-22f2-4bb2-a8f9-ade4b2a37255",
   "metadata": {},
   "source": [
    "#### Amount is not in normal distribution"
   ]
  },
  {
   "cell_type": "markdown",
   "id": "11655262-bb7d-47d1-9bec-a9a891c21b48",
   "metadata": {},
   "source": [
    "#### check for balance in labels"
   ]
  },
  {
   "cell_type": "code",
   "execution_count": 18,
   "id": "a3cfe41d-1f91-4a96-a350-5a1332d50143",
   "metadata": {},
   "outputs": [
    {
     "data": {
      "image/png": "[encoded data removed]",
      "text/plain": [
       "<Figure size 640x480 with 1 Axes>"
      ]
     },
     "metadata": {},
     "output_type": "display_data"
    }
   ],
   "source": [
    "sns.countplot(data=fraud,x=\"FraudReported\")\n",
    "plt.show()"
   ]
  },
  {
   "cell_type": "markdown",
   "id": "34e0ac0f-9c26-4892-aeb1-d9223b314b62",
   "metadata": {},
   "source": [
    "##### Yes Vs No is almost balanced with minor difference"
   ]
  },
  {
   "cell_type": "markdown",
   "id": "e8603419-b332-4312-bd27-4e876bcedc49",
   "metadata": {},
   "source": [
    "#### Transaction type"
   ]
  },
  {
   "cell_type": "code",
   "execution_count": 21,
   "id": "76834285-264b-478f-b648-f3ec82bef418",
   "metadata": {},
   "outputs": [
    {
     "data": {
      "image/png": "[encoded data removed]",
      "text/plain": [
       "<Figure size 640x480 with 1 Axes>"
      ]
     },
     "metadata": {},
     "output_type": "display_data"
    }
   ],
   "source": [
    "## Check for transaction types\n",
    "sns.countplot(data=fraud,x=\"TransactionType\")\n",
    "plt.show()"
   ]
  },
  {
   "cell_type": "markdown",
   "id": "21de6416-25f5-4993-81ac-9278af790daa",
   "metadata": {},
   "source": [
    "##### Online type is in majority, followed by an ATM, last but not the least POS"
   ]
  },
  {
   "cell_type": "markdown",
   "id": "67daa97d-1e48-432a-84e1-e85e77308e43",
   "metadata": {},
   "source": [
    "#### IsInternational"
   ]
  },
  {
   "cell_type": "code",
   "execution_count": 24,
   "id": "1ec7ad59-2474-4ccc-bdb7-f906b48df89f",
   "metadata": {},
   "outputs": [
    {
     "data": {
      "image/png": "[encoded data removed]",
      "text/plain": [
       "<Figure size 640x480 with 1 Axes>"
      ]
     },
     "metadata": {},
     "output_type": "display_data"
    }
   ],
   "source": [
    "### Check for international \n",
    "sns.countplot(data=fraud,x=\"IsInternational\")\n",
    "plt.show()"
   ]
  },
  {
   "cell_type": "markdown",
   "id": "c804188a-c3ee-47e4-a14d-97767a92b77f",
   "metadata": {},
   "source": [
    "##### Majority is 'Yes', its international transaction, followed by 'no'"
   ]
  },
  {
   "cell_type": "markdown",
   "id": "6df50881-9dc1-426b-be73-c301742dc9c9",
   "metadata": {},
   "source": [
    "#### Distribution of age"
   ]
  },
  {
   "cell_type": "code",
   "execution_count": 27,
   "id": "f540652e-bf55-42e5-957e-5e1f32633b46",
   "metadata": {},
   "outputs": [
    {
     "data": {
      "image/png": "[encoded data removed]",
      "text/plain": [
       "<Figure size 640x480 with 1 Axes>"
      ]
     },
     "metadata": {},
     "output_type": "display_data"
    }
   ],
   "source": [
    "sns.kdeplot(data=fraud, x=\"CardHolderAge\")\n",
    "plt.show()"
   ]
  },
  {
   "cell_type": "markdown",
   "id": "7d2204ea-eeef-4208-9ff7-f4a9c4537328",
   "metadata": {},
   "source": [
    "##### Age is Almost Normally distributed"
   ]
  },
  {
   "cell_type": "markdown",
   "id": "22471fe6-1420-4c2d-803e-652030cf8e8e",
   "metadata": {},
   "source": [
    "#### IsInternational Vs FraudReported Vs Amount"
   ]
  },
  {
   "cell_type": "code",
   "execution_count": 30,
   "id": "415b4976-6d8c-40b9-ac36-0ce38750e9e7",
   "metadata": {},
   "outputs": [
    {
     "data": {
      "image/png": "[encoded data removed]",
      "text/plain": [
       "<Figure size 1000x500 with 2 Axes>"
      ]
     },
     "metadata": {},
     "output_type": "display_data"
    }
   ],
   "source": [
    "sns.catplot(data=fraud, x=\"IsInternational\",y=\"Amount\",col=\"FraudReported\",kind=\"box\",hue=\"IsInternational\")\n",
    "plt.show()"
   ]
  },
  {
   "cell_type": "markdown",
   "id": "6017bd03-977f-45d7-938d-0d43d9eccfe2",
   "metadata": {},
   "source": [
    "##### Fraud amount is distributed more if its international"
   ]
  },
  {
   "cell_type": "markdown",
   "id": "d026ee59-945a-46c5-aec7-6ab919c335d2",
   "metadata": {},
   "source": [
    "#### FraudReported Vs Amount"
   ]
  },
  {
   "cell_type": "code",
   "execution_count": 33,
   "id": "e2a230e5-1114-41ba-9d80-a3f5217b08ad",
   "metadata": {},
   "outputs": [
    {
     "data": {
      "image/png": "[encoded data removed]",
      "text/plain": [
       "<Figure size 511.111x500 with 1 Axes>"
      ]
     },
     "metadata": {},
     "output_type": "display_data"
    }
   ],
   "source": [
    "sns.catplot(data=fraud, x=\"FraudReported\",y=\"Amount\",kind=\"box\")\n",
    "plt.show()"
   ]
  },
  {
   "cell_type": "markdown",
   "id": "3461c112-19de-40bb-8eb9-1084d18c32d4",
   "metadata": {},
   "source": [
    "##### Amount drawn during fraudReported is almost same as when no fraudReported"
   ]
  },
  {
   "cell_type": "markdown",
   "id": "2ce960c6-c749-4104-9d96-e8fc68888996",
   "metadata": {},
   "source": [
    "#### Amount Vs TransactionType Vs IsInternational"
   ]
  },
  {
   "cell_type": "code",
   "execution_count": 36,
   "id": "abc9ec14-bd58-4046-8153-b85b62933ab9",
   "metadata": {},
   "outputs": [
    {
     "data": {
      "image/png": "[encoded data removed]",
      "text/plain": [
       "<Figure size 1622.99x500 with 3 Axes>"
      ]
     },
     "metadata": {},
     "output_type": "display_data"
    }
   ],
   "source": [
    "sns.catplot(data=fraud, x=\"IsInternational\",y=\"Amount\",col=\"TransactionType\",kind=\"box\",hue=\"TransactionType\")\n",
    "plt.show()"
   ]
  },
  {
   "cell_type": "markdown",
   "id": "3a3291e0-123a-45e9-87d9-303bd3c1fd05",
   "metadata": {},
   "source": [
    "###### Amount is more if transaction type is 'online', and international\n",
    "###### But for ATM and POS, amount is more when it isn't international\n",
    "\n",
    "\n",
    "###### There seems to be an outlier in transactiontype = 'ATM'/'POS', IsInternation='No'/'Yes' Respectively"
   ]
  },
  {
   "cell_type": "markdown",
   "id": "f01a7ea5-59ad-443f-acdc-2c24136acbfb",
   "metadata": {},
   "source": [
    "#### TransactionType Vs IsInternational Vs CardHolderAge"
   ]
  },
  {
   "cell_type": "code",
   "execution_count": 39,
   "id": "98dc37f7-1a5e-451c-8a73-dcac1540be20",
   "metadata": {},
   "outputs": [
    {
     "data": {
      "image/png": "[encoded data removed]",
      "text/plain": [
       "<Figure size 1622.99x500 with 3 Axes>"
      ]
     },
     "metadata": {},
     "output_type": "display_data"
    }
   ],
   "source": [
    "sns.catplot(data=fraud, x=\"IsInternational\",y=\"CardHolderAge\",col=\"TransactionType\",kind=\"box\",hue=\"TransactionType\")\n",
    "plt.show()"
   ]
  },
  {
   "cell_type": "markdown",
   "id": "786beeea-dac0-4dfc-85f9-ebb213f5aeec",
   "metadata": {},
   "source": [
    "###### Cardholder age is more if transaction type is 'online'/'POS' and isInternational\n",
    "###### Cardholder age is more if transaction type is 'ATM' and not isInternational\n",
    "\n",
    "\n",
    "###### There seems to be an outliers in transactiontype='Online'/'POS' in CardHolderAge for isInternation='No'"
   ]
  },
  {
   "cell_type": "markdown",
   "id": "7bc230dd-bc52-495d-931d-26737fc1ba8a",
   "metadata": {},
   "source": [
    "#### TransactionType Vs CardHolderAge Vs FraudReported"
   ]
  },
  {
   "cell_type": "code",
   "execution_count": 42,
   "id": "36788a5f-3eee-492d-9b81-1f32af8eb39b",
   "metadata": {},
   "outputs": [
    {
     "data": {
      "image/png": "[encoded data removed]",
      "text/plain": [
       "<Figure size 1000x500 with 2 Axes>"
      ]
     },
     "metadata": {},
     "output_type": "display_data"
    }
   ],
   "source": [
    "sns.catplot(data=fraud, x=\"TransactionType\",y=\"CardHolderAge\",col=\"FraudReported\",kind=\"box\",hue=\"TransactionType\")\n",
    "plt.show()"
   ]
  },
  {
   "cell_type": "markdown",
   "id": "703de75a-f86b-46ff-acef-33dfaf85d1ba",
   "metadata": {},
   "source": [
    "###### Cardholderage is more for ATM transaction and where fraudReported, with second highest for ONLINE\n",
    "###### Cardholderage is more for ONLINE transaction and where no fraudReported"
   ]
  },
  {
   "cell_type": "markdown",
   "id": "b8db7ca6-f7d8-4e5f-a03a-62657affbbaa",
   "metadata": {},
   "source": [
    "#### Create a categorical column for age"
   ]
  },
  {
   "cell_type": "code",
   "execution_count": 10,
   "id": "a9f207c8-b75c-4cd3-88c3-edba24faf4af",
   "metadata": {},
   "outputs": [],
   "source": [
    "def create_categories(df,col_name,new_col_name):\n",
    "\n",
    "    #generalized bins\n",
    "    bins = [0, 25, 40, 55, 65, float('inf')]\n",
    "    \n",
    "    labels = ['Young-Adult', 'Adult', 'Middle-Aged', 'Late-Middle-Aged', 'Senior']\n",
    "\n",
    "    #create categories for requested columns\n",
    "    df[new_col_name] = pd.cut(x=df[col_name],bins=bins,labels=labels)\n",
    "\n",
    "    #return new dataframe with categories\n",
    "    return df"
   ]
  },
  {
   "cell_type": "markdown",
   "id": "abb1b463-05b3-4adc-a0a8-71d5360739f5",
   "metadata": {},
   "source": [
    "### Remove Outliers"
   ]
  },
  {
   "cell_type": "code",
   "execution_count": 12,
   "id": "3b4ece13-52d2-44fa-a846-be564cc164fe",
   "metadata": {},
   "outputs": [],
   "source": [
    "#get the quantiles and iqr for annualcosts to remove an outlier\n",
    "\n",
    "def remove_outliers(df,colname):\n",
    "\n",
    "    #seventyfifth quantile\n",
    "    seventy_fifth = np.quantile(df[colname],q=0.75)\n",
    "\n",
    "    #twentyfifth quantile\n",
    "    twenty_fifth = np.quantile(df[colname],q=0.25)\n",
    "\n",
    "    #inter quartile range\n",
    "    iqr = seventy_fifth - twenty_fifth\n",
    "    \n",
    "    #get lower and upper boundaries\n",
    "    lower = twenty_fifth - (1.5*iqr)\n",
    "    upper = seventy_fifth + (1.5*iqr)\n",
    "\n",
    "    #filter the dataframe for any outlier\n",
    "    df = df[(df[colname] > lower) & (df[colname] < upper)]\n",
    "\n",
    "    #return the filtered dataframe\n",
    "    return df"
   ]
  },
  {
   "cell_type": "markdown",
   "id": "d0f367a1-6042-478e-b6d2-273ba2e8f3d4",
   "metadata": {},
   "source": [
    "#### AgeCategory Vs Amount Vs TransactionType"
   ]
  },
  {
   "cell_type": "code",
   "execution_count": 14,
   "id": "d4f5fe81-51b4-4287-bfe7-f7b66aa8ffce",
   "metadata": {},
   "outputs": [],
   "source": [
    "fraud = remove_outliers(fraud,'Amount')\n",
    "fraud = create_categories(fraud, 'CardHolderAge','AgeCategory')"
   ]
  },
  {
   "cell_type": "code",
   "execution_count": 50,
   "id": "d7715f97-9222-4e54-827b-42ecfe03edc5",
   "metadata": {},
   "outputs": [
    {
     "data": {
      "image/png": "[encoded data removed]",
      "text/plain": [
       "<Figure size 1500x500 with 3 Axes>"
      ]
     },
     "metadata": {},
     "output_type": "display_data"
    }
   ],
   "source": [
    "g = sns.catplot(data=fraud, x=\"AgeCategory\",y=\"Amount\",col=\"TransactionType\",kind=\"box\",hue=\"AgeCategory\")\n",
    "\n",
    "g.set_xticklabels(rotation=90)\n",
    "plt.show()"
   ]
  },
  {
   "cell_type": "markdown",
   "id": "a9fec1fd-7d73-4a25-881a-9d217447b721",
   "metadata": {},
   "source": [
    "##### Distribution of amount is minor for AgeCategory of 'Young-Adult'/'Late-Middle-Aged'/'Senior' in 'Online' TransactionType\n",
    "##### However, Distibution is larger in 'Middle-Aged'"
   ]
  },
  {
   "cell_type": "markdown",
   "id": "88e0e6e3-0786-42cf-a833-64e40c315b3c",
   "metadata": {},
   "source": [
    "##### Distribution of amount is null for an AgeCategory of 'Young-Adult'/'Senior' in 'ATM' TransactionType\n",
    "##### However, Distibution is larger in 'Adult'"
   ]
  },
  {
   "cell_type": "markdown",
   "id": "6450f4af-a40a-416e-848a-4d3b4a1361fc",
   "metadata": {},
   "source": [
    "##### Distribution of amount is minor for AgeCategory of 'Late-Middle-Aged'/'Senior' in 'POS' TransactionType\n",
    "##### However, Distibution is higher in 'Adult', second higher in 'Young-Adult'"
   ]
  },
  {
   "cell_type": "markdown",
   "id": "0ba42864-ee62-45bb-975c-fa3662410638",
   "metadata": {},
   "source": [
    "#### AgeCategory Vs Amount Vs FraudReport"
   ]
  },
  {
   "cell_type": "code",
   "execution_count": 55,
   "id": "46db318f-620e-403d-8ccd-c077a2a2ffda",
   "metadata": {},
   "outputs": [
    {
     "data": {
      "image/png": "[encoded data removed]",
      "text/plain": [
       "<Figure size 1000x500 with 2 Axes>"
      ]
     },
     "metadata": {},
     "output_type": "display_data"
    }
   ],
   "source": [
    "g = sns.catplot(data=fraud, x=\"AgeCategory\",y=\"Amount\",col=\"FraudReported\",kind=\"box\",hue=\"AgeCategory\")\n",
    "\n",
    "g.set_xticklabels(rotation=90)\n",
    "plt.show()"
   ]
  },
  {
   "cell_type": "markdown",
   "id": "73a58408-2eba-448d-b342-dea30db6ee4a",
   "metadata": {},
   "source": [
    "##### Distribution of Amount in 'Adult' where the is fraudReport is high, with second highest 'Middle-Aged' and least 'Young-Adult'\n",
    "\n",
    "##### Distribution of Amount in 'Late-Middle-Aged'/'Middle-Aged' is high, with next height being 'Adult' and least of 'Senior'"
   ]
  },
  {
   "cell_type": "markdown",
   "id": "a4776640-6972-4659-ab87-888055d07a8d",
   "metadata": {},
   "source": [
    "#### AgeCategory Vs Amount Vs IsInternational"
   ]
  },
  {
   "cell_type": "code",
   "execution_count": 58,
   "id": "d9150d87-a56a-42c9-90e9-ca5ba975fc8c",
   "metadata": {},
   "outputs": [
    {
     "data": {
      "image/png": "[encoded data removed]",
      "text/plain": [
       "<Figure size 1000x500 with 2 Axes>"
      ]
     },
     "metadata": {},
     "output_type": "display_data"
    }
   ],
   "source": [
    "g = sns.catplot(data=fraud, x=\"AgeCategory\",y=\"Amount\",col=\"IsInternational\",kind=\"box\",hue=\"AgeCategory\")\n",
    "\n",
    "g.set_xticklabels(rotation=90)\n",
    "plt.show()"
   ]
  },
  {
   "cell_type": "markdown",
   "id": "93e37bf4-f5e7-458e-9f1f-b3dcb2fe3949",
   "metadata": {},
   "source": [
    "##### Distribution of amount for 'Young-Adult'/'Senior' is minor where there is no International transaction\n",
    "\n",
    "##### However, in adullts, the distribution is high, with second hgihest being 'Middle-Age' and finally 'Late-Middle-Aged'"
   ]
  },
  {
   "cell_type": "markdown",
   "id": "54eeea97-9139-4b51-aca6-8336abff51cc",
   "metadata": {},
   "source": [
    "##### Distribution of amount for 'Adult'/'Senior' is high where there International transaction\n",
    "\n",
    "##### However, in adullts, the distribution is high, with second hgihest being 'Middle-Age'/'Late-Middle-Aged' and finally 'Late-Middle-Aged'\n",
    "\n",
    "##### With 'Young-Adult' being the least"
   ]
  },
  {
   "cell_type": "markdown",
   "id": "e3eb097d-dc2f-4221-9013-8c7c8f5f2dea",
   "metadata": {},
   "source": [
    "#### TransactionType Vs IsInternational Vs AgeCategory"
   ]
  },
  {
   "cell_type": "code",
   "execution_count": 62,
   "id": "4acddc0a-6c3a-4e38-9153-eeff824e530d",
   "metadata": {},
   "outputs": [
    {
     "data": {
      "image/png": "[encoded data removed]",
      "text/plain": [
       "<Figure size 2610.99x500 with 5 Axes>"
      ]
     },
     "metadata": {},
     "output_type": "display_data"
    }
   ],
   "source": [
    "g = sns.catplot(\n",
    "    data=fraud,\n",
    "    x='TransactionType',\n",
    "    hue='IsInternational',\n",
    "    col='AgeCategory',  # or use row='AgeCategory'\n",
    "    kind='count')\n",
    "\n",
    "g.set_xticklabels(rotation=90)\n",
    "plt.show()"
   ]
  },
  {
   "cell_type": "markdown",
   "id": "f5a592e4-d375-47ef-8c08-bc270f1dc7a1",
   "metadata": {},
   "source": [
    "##### International transaction within 'Adult' using ATM is the highest, \n",
    "##### International transaction within 'middle-aged' using POS and Online"
   ]
  },
  {
   "cell_type": "code",
   "execution_count": 16,
   "id": "841b007c-11db-4a31-b113-ecb06f1d1983",
   "metadata": {},
   "outputs": [],
   "source": [
    "### Create Dummy variables\n",
    "fraud = pd.get_dummies(data=fraud, columns=['TransactionType','IsInternational','AgeCategory',\n",
    "                                            'FraudReported'],dtype='int',drop_first=True)\n",
    "\n",
    "#change column name of FraudReported\n",
    "fraud.columns = ['Amount', 'CardHolderAge', 'TransactionType_Online',\n",
    "       'TransactionType_POS', 'IsInternational_Yes', 'AgeCategory_Adult',\n",
    "       'AgeCategory_Middle-Aged', 'AgeCategory_Late-Middle-Aged',\n",
    "       'AgeCategory_Senior', 'FraudReported']\n",
    "\n",
    "# Drop CardHolder Age since its of no use\n",
    "fraud = fraud.drop('CardHolderAge',axis=1)"
   ]
  },
  {
   "cell_type": "markdown",
   "id": "23997bbb-582f-4f04-a9c6-0e005bfb3636",
   "metadata": {},
   "source": [
    "### Build a Classification model"
   ]
  },
  {
   "cell_type": "code",
   "execution_count": 18,
   "id": "ca39b837-69cc-4e87-b205-48540298dbd2",
   "metadata": {},
   "outputs": [
    {
     "name": "stdout",
     "output_type": "stream",
     "text": [
      "              precision    recall  f1-score   support\n",
      "\n",
      "           0       0.00      0.00      0.00         6\n",
      "           1       0.50      0.67      0.57         9\n",
      "\n",
      "    accuracy                           0.40        15\n",
      "   macro avg       0.25      0.33      0.29        15\n",
      "weighted avg       0.30      0.40      0.34        15\n",
      "\n"
     ]
    }
   ],
   "source": [
    "X = fraud.drop('FraudReported',axis=1).values\n",
    "y = fraud['FraudReported'].values\n",
    "\n",
    "#get the index of an amount\n",
    "amount_idx = list(fraud.drop('FraudReported', axis=1).columns).index('Amount')\n",
    "\n",
    "X_train, X_test, y_train, y_test = train_test_split(X,y,test_size=0.3,stratify=y)\n",
    "\n",
    "# Step 2: Initialize scaler\n",
    "scaler = MinMaxScaler()\n",
    "\n",
    "# Step 3: Fit and transform\n",
    "X_train[:, amount_idx] = scaler.fit_transform(X_train[:, amount_idx].reshape(-1, 1)).ravel()\n",
    "X_test[:, amount_idx] = scaler.transform(X_test[:, amount_idx].reshape(-1, 1)).ravel()\n",
    "\n",
    "logreg = LogisticRegression()\n",
    "logreg.fit(X_train,y_train)\n",
    "\n",
    "y_pred = logreg.predict(X_test)\n",
    "\n",
    "print(classification_report(y_test,y_pred))"
   ]
  },
  {
   "cell_type": "code",
   "execution_count": 20,
   "id": "03f019a9-c56e-4904-8ab7-54ded92d49cc",
   "metadata": {},
   "outputs": [],
   "source": [
    "#parameters used in hyper parameter tuning of models\n",
    "\n",
    "param_grids = {\n",
    "            'LogisticRegression':{\n",
    "                'penalty': ['l2'], \n",
    "                'C': [0.01, 0.1, 1], \n",
    "                'solver': ['lbfgs', 'liblinear'],\n",
    "                'random_state':[42],\n",
    "               },\n",
    "               'DecisionTree':{\n",
    "                   'max_depth':np.arange(1,6,1),\n",
    "                   'min_samples_leaf':[2,3,4,5],\n",
    "                   'random_state':[42]\n",
    "               },\n",
    "               'RandomForest':{\n",
    "                   'max_depth':np.arange(1,6,1),\n",
    "                   'min_samples_leaf': [2,3,4, 5],\n",
    "                   'n_estimators': [50, 100, 200, 250],\n",
    "                   'random_state':[42]\n",
    "               },\n",
    "               'AdaBoost':{\n",
    "                   'learning_rate': [0.01, 0.05, 0.1, 0.3, 0.5],\n",
    "                   'n_estimators': [50, 100, 200, 250],\n",
    "                   'random_state':[42],\n",
    "                   'algorithm':['SAMME']\n",
    "               },\n",
    "               'GradientBoosting':{\n",
    "                   'learning_rate': [0.01, 0.05, 0.1, 0.3, 0.5],\n",
    "                   'n_estimators': [50, 100, 200, 250],\n",
    "                   'random_state':[42],\n",
    "                   'max_depth':np.arange(1,6,1),\n",
    "                   'min_samples_leaf': [2,3,4,5]\n",
    "               },\n",
    "               'SGD':{\n",
    "                   'learning_rate': [0.01, 0.05, 0.1, 0.3, 0.5],\n",
    "                   'subsample':np.linspace(0.1,0.8,8), #subsample < 1.0\n",
    "                   'n_estimators': [50, 100, 200, 250],\n",
    "                   'max_features':[0.1,0.2,0.3,0.4,0.5],\n",
    "                   'random_state':[42],\n",
    "                   'max_depth':np.arange(1,6,1),\n",
    "                   'min_samples_leaf': [2,3,4,5]\n",
    "               }}"
   ]
  },
  {
   "cell_type": "code",
   "execution_count": 22,
   "id": "8e9c8292-c37b-4a02-89e1-c7bd0cdc988b",
   "metadata": {},
   "outputs": [],
   "source": [
    "def Model_Training(X_train, y_train, X_test, y_test, model_names, param_grids=None):\n",
    "\n",
    "    #models used in training\n",
    "    models = {\n",
    "        'LogisticRegression': LogisticRegression(),\n",
    "        'DecisionTree': DecisionTreeClassifier(),\n",
    "        'RandomForest': RandomForestClassifier(),\n",
    "        'AdaBoost': AdaBoostClassifier(),\n",
    "        'GradientBoosting': GradientBoostingClassifier(),\n",
    "        'SGD': GradientBoostingClassifier()\n",
    "    }\n",
    "\n",
    "    #used to get the final evaluation\n",
    "    results = []\n",
    "\n",
    "    for model_name in model_names:\n",
    "        \n",
    "        #model is instantiated for each model name\n",
    "        model = models.get(model_name)\n",
    "        print(\"training..\"+\" \"+model_name)\n",
    "\n",
    "\n",
    "        #Key is used to get a paramters that needs to be passed\n",
    "        param_grid = param_grids[model_name]\n",
    "\n",
    "        #KFold crossvalidation is performed to check if the model generalized the data correctly\n",
    "        kf = KFold(n_splits=4, shuffle=True, random_state=42)\n",
    "\n",
    "        #GridSearch is used in hyper parameter selection\n",
    "        grid = GridSearchCV(estimator=model, param_grid=param_grid, cv=kf)\n",
    "\n",
    "        #model is trained for each hyper parameter\n",
    "        grid.fit(X_train, y_train)\n",
    "\n",
    "        #best model, best cross validation score, r2 score is obtained\n",
    "        best_model = grid.best_estimator_\n",
    "        best_cv_acc = grid.best_score_\n",
    "        test_acc = accuracy_score(y_test, best_model.predict(X_test))\n",
    "\n",
    "        results.append({\n",
    "                'Model': model_name,\n",
    "                'BestParams': grid.best_params_,\n",
    "                'CV_acc_Score': best_cv_acc,\n",
    "                'Test_acc_Score': test_acc\n",
    "        })\n",
    "\n",
    "    #evalution dataframe is returned\n",
    "    return pd.DataFrame(results)"
   ]
  },
  {
   "cell_type": "code",
   "execution_count": 24,
   "id": "72f50dd9-44d4-4ec9-a5bd-b8628a365058",
   "metadata": {},
   "outputs": [],
   "source": [
    "def Training(df, drop_cols=None):\n",
    "\n",
    "    X = df.drop([drop_cols],axis=1).values\n",
    "    y = df['FraudReported'].values\n",
    "    \n",
    "    #get the index of an amount\n",
    "    amount_idx = list(df.drop('FraudReported', axis=1).columns).index('Amount')\n",
    "    \n",
    "    X_train, X_test, y_train, y_test = train_test_split(X,y,test_size=0.3,stratify=y)\n",
    "    \n",
    "    # Step 2: Initialize scaler\n",
    "    scaler = MinMaxScaler()\n",
    "    \n",
    "    # Step 3: Fit and transform\n",
    "    X_train[:, amount_idx] = scaler.fit_transform(X_train[:, amount_idx].reshape(-1, 1)).ravel()\n",
    "    X_test[:, amount_idx] = scaler.transform(X_test[:, amount_idx].reshape(-1, 1)).ravel()\n",
    "\n",
    "    #train the model\n",
    "    results_df = Model_Training(\n",
    "        X_train, y_train, X_test, y_test,\n",
    "        model_names=['LogisticRegression', 'DecisionTree', 'RandomForest', 'AdaBoost', 'GradientBoosting', 'SGD'],\n",
    "        param_grids=param_grids\n",
    "    )\n",
    "\n",
    "    return results_df.sort_values(by=\"Test_acc_Score\", ascending=False)"
   ]
  },
  {
   "cell_type": "code",
   "execution_count": 26,
   "id": "d6f44ec8-4f84-4e7c-8a3d-672934f2d7e1",
   "metadata": {},
   "outputs": [
    {
     "name": "stdout",
     "output_type": "stream",
     "text": [
      "training.. LogisticRegression\n",
      "training.. DecisionTree\n",
      "training.. RandomForest\n",
      "training.. AdaBoost\n",
      "training.. GradientBoosting\n",
      "training.. SGD\n"
     ]
    }
   ],
   "source": [
    "res = Training(fraud,\"FraudReported\")"
   ]
  },
  {
   "cell_type": "code",
   "execution_count": 27,
   "id": "cc7c8238-dbba-431c-a5a0-ab2a88964a43",
   "metadata": {},
   "outputs": [
    {
     "data": {
      "text/html": [
       "<div>\n",
       "<style scoped>\n",
       "    .dataframe tbody tr th:only-of-type {\n",
       "        vertical-align: middle;\n",
       "    }\n",
       "\n",
       "    .dataframe tbody tr th {\n",
       "        vertical-align: top;\n",
       "    }\n",
       "\n",
       "    .dataframe thead th {\n",
       "        text-align: right;\n",
       "    }\n",
       "</style>\n",
       "<table border=\"1\" class=\"dataframe\">\n",
       "  <thead>\n",
       "    <tr style=\"text-align: right;\">\n",
       "      <th></th>\n",
       "      <th>Model</th>\n",
       "      <th>BestParams</th>\n",
       "      <th>CV_acc_Score</th>\n",
       "      <th>Test_acc_Score</th>\n",
       "    </tr>\n",
       "  </thead>\n",
       "  <tbody>\n",
       "    <tr>\n",
       "      <th>0</th>\n",
       "      <td>LogisticRegression</td>\n",
       "      <td>{'C': 0.01, 'penalty': 'l2', 'random_state': 4...</td>\n",
       "      <td>0.486111</td>\n",
       "      <td>0.600000</td>\n",
       "    </tr>\n",
       "    <tr>\n",
       "      <th>2</th>\n",
       "      <td>RandomForest</td>\n",
       "      <td>{'max_depth': 1, 'min_samples_leaf': 2, 'n_est...</td>\n",
       "      <td>0.392361</td>\n",
       "      <td>0.600000</td>\n",
       "    </tr>\n",
       "    <tr>\n",
       "      <th>4</th>\n",
       "      <td>GradientBoosting</td>\n",
       "      <td>{'learning_rate': 0.1, 'max_depth': 3, 'min_sa...</td>\n",
       "      <td>0.548611</td>\n",
       "      <td>0.533333</td>\n",
       "    </tr>\n",
       "    <tr>\n",
       "      <th>1</th>\n",
       "      <td>DecisionTree</td>\n",
       "      <td>{'max_depth': 5, 'min_samples_leaf': 3, 'rando...</td>\n",
       "      <td>0.430556</td>\n",
       "      <td>0.466667</td>\n",
       "    </tr>\n",
       "    <tr>\n",
       "      <th>3</th>\n",
       "      <td>AdaBoost</td>\n",
       "      <td>{'algorithm': 'SAMME', 'learning_rate': 0.5, '...</td>\n",
       "      <td>0.343750</td>\n",
       "      <td>0.466667</td>\n",
       "    </tr>\n",
       "    <tr>\n",
       "      <th>5</th>\n",
       "      <td>SGD</td>\n",
       "      <td>{'learning_rate': 0.5, 'max_depth': 1, 'max_fe...</td>\n",
       "      <td>0.687500</td>\n",
       "      <td>0.400000</td>\n",
       "    </tr>\n",
       "  </tbody>\n",
       "</table>\n",
       "</div>"
      ],
      "text/plain": [
       "                Model                                         BestParams  \\\n",
       "0  LogisticRegression  {'C': 0.01, 'penalty': 'l2', 'random_state': 4...   \n",
       "2        RandomForest  {'max_depth': 1, 'min_samples_leaf': 2, 'n_est...   \n",
       "4    GradientBoosting  {'learning_rate': 0.1, 'max_depth': 3, 'min_sa...   \n",
       "1        DecisionTree  {'max_depth': 5, 'min_samples_leaf': 3, 'rando...   \n",
       "3            AdaBoost  {'algorithm': 'SAMME', 'learning_rate': 0.5, '...   \n",
       "5                 SGD  {'learning_rate': 0.5, 'max_depth': 1, 'max_fe...   \n",
       "\n",
       "   CV_acc_Score  Test_acc_Score  \n",
       "0      0.486111        0.600000  \n",
       "2      0.392361        0.600000  \n",
       "4      0.548611        0.533333  \n",
       "1      0.430556        0.466667  \n",
       "3      0.343750        0.466667  \n",
       "5      0.687500        0.400000  "
      ]
     },
     "execution_count": 27,
     "metadata": {},
     "output_type": "execute_result"
    }
   ],
   "source": [
    "res"
   ]
  },
  {
   "cell_type": "markdown",
   "id": "b7f7d290-144b-43aa-8d2b-a8ce5ae08ac4",
   "metadata": {},
   "source": [
    "#### Create interaction columns (Feature engineering)"
   ]
  },
  {
   "cell_type": "code",
   "execution_count": 30,
   "id": "7b4dc7a3-5738-4691-b831-53d75d2d05fa",
   "metadata": {},
   "outputs": [],
   "source": [
    "fraud = pd.read_json(\"fraud_transactions.json\", lines=True)"
   ]
  },
  {
   "cell_type": "code",
   "execution_count": 32,
   "id": "fc577b84-df35-4605-aeaa-7ba2b44be653",
   "metadata": {},
   "outputs": [],
   "source": [
    "def Create_Columns(df):\n",
    "\n",
    "    #copy the dataframe so existing data isn't altered\n",
    "    df = df.copy()\n",
    "\n",
    "    #remove the outliers if any\n",
    "    df = remove_outliers(df,'Amount')\n",
    "\n",
    "    #create categorical column for an age\n",
    "    df = create_categories(df, 'CardHolderAge','AgeCategory')\n",
    "\n",
    "    #get one-one encoded values for categorical column\n",
    "    df = pd.get_dummies(data=df, columns=['TransactionType','IsInternational','AgeCategory',\n",
    "                                            'FraudReported'],dtype='int',drop_first=True)\n",
    "    #rename the target column\n",
    "    df.columns = ['TransactionID','Amount', 'CardHolderAge', 'TransactionType_Online',\n",
    "       'TransactionType_POS', 'IsInternational_Yes', 'AgeCategory_Adult',\n",
    "       'AgeCategory_Middle-Aged', 'AgeCategory_Late-Middle-Aged',\n",
    "       'AgeCategory_Senior', 'FraudReported']\n",
    "\n",
    "    #return the new dataframe after dropping the required columns\n",
    "    return df.drop(['TransactionID','CardHolderAge'],axis=1)"
   ]
  },
  {
   "cell_type": "markdown",
   "id": "52a4eace-82dc-45f8-b501-1d9fd11bff71",
   "metadata": {},
   "source": [
    "#### Create model using new features"
   ]
  },
  {
   "cell_type": "markdown",
   "id": "a5b0b273-e4c4-4bf5-bb25-e6c1ec8642d4",
   "metadata": {},
   "source": [
    "###### Train 1 Feature with Target"
   ]
  },
  {
   "cell_type": "code",
   "execution_count": 34,
   "id": "a700ff1f-870c-4b63-9282-8781819f7ce9",
   "metadata": {},
   "outputs": [],
   "source": [
    "#parameters used in hyper parameter tuning of models\n",
    "\n",
    "param_grids = {\n",
    "            'LogisticRegression':{\n",
    "                'penalty': ['l2'], \n",
    "                'C': [0.01, 0.1, 1], \n",
    "                'solver': ['lbfgs', 'liblinear'],\n",
    "                'random_state':[42],\n",
    "               },\n",
    "               'DecisionTree':{\n",
    "                   'max_depth':np.arange(1,6,1),\n",
    "                   'min_samples_leaf':[2,3,4,5],\n",
    "                   'random_state':[42]\n",
    "               },\n",
    "               'RandomForest':{\n",
    "                   'max_depth':np.arange(1,6,1),\n",
    "                   'min_samples_leaf': [2,3,4, 5],\n",
    "                   'n_estimators': [50, 100, 200, 250],\n",
    "                   'random_state':[42]\n",
    "               },\n",
    "               'AdaBoost':{\n",
    "                   'learning_rate': [0.01, 0.05, 0.1, 0.3, 0.5],\n",
    "                   'n_estimators': [50, 100, 200, 250],\n",
    "                   'random_state':[42],\n",
    "                   'algorithm':['SAMME']\n",
    "               },\n",
    "               'GradientBoosting':{\n",
    "                   'learning_rate': [0.01, 0.05, 0.1, 0.3, 0.5],\n",
    "                   'n_estimators': [50, 100, 200, 250],\n",
    "                   'random_state':[42],\n",
    "                   'max_depth':np.arange(1,6,1),\n",
    "                   'min_samples_leaf': [2,3,4,5]\n",
    "               }\n",
    "}"
   ]
  },
  {
   "cell_type": "code",
   "execution_count": 36,
   "id": "6847e456-ca48-47e1-914d-ed6923919415",
   "metadata": {},
   "outputs": [],
   "source": [
    "def Model_Training(X_train, y_train, X_test, y_test, model_names, param_grids=None,features=None):\n",
    "\n",
    "    #models used in training\n",
    "    models = {\n",
    "        'LogisticRegression': LogisticRegression(),\n",
    "        'DecisionTree': DecisionTreeClassifier(),\n",
    "        'RandomForest': RandomForestClassifier(),\n",
    "        'AdaBoost': AdaBoostClassifier(),\n",
    "        'GradientBoosting': GradientBoostingClassifier(),\n",
    "        'SGD': GradientBoostingClassifier()\n",
    "    }\n",
    "\n",
    "    #used to get the final evaluation\n",
    "    results = []\n",
    "\n",
    "    for model_name in model_names:\n",
    "        \n",
    "        #model is instantiated for each model name\n",
    "        model = models.get(model_name)\n",
    "        print(\"training..\"+\" \"+model_name)\n",
    "\n",
    "        #Key is used to get a paramters that needs to be passed\n",
    "        param_grid = param_grids[model_name]\n",
    "\n",
    "        #KFold crossvalidation is performed to check if the model generalized the data correctly\n",
    "        kf = KFold(n_splits=4, shuffle=True, random_state=42)\n",
    "\n",
    "        #GridSearch is used in hyper parameter selection\n",
    "        grid = GridSearchCV(estimator=model, param_grid=param_grid, cv=kf)\n",
    "\n",
    "        #model is trained for each hyper parameter\n",
    "        grid.fit(X_train, y_train)\n",
    "\n",
    "        #best model, best cross validation score, r2 score is obtained\n",
    "        best_model = grid.best_estimator_\n",
    "        best_cv_acc = grid.best_score_\n",
    "        test_acc = accuracy_score(y_test, best_model.predict(X_test))\n",
    "\n",
    "        results.append({\n",
    "                'Model': model_name,\n",
    "                'BestParams': grid.best_params_,\n",
    "                'CV_acc_Score': best_cv_acc,\n",
    "                'Test_acc_Score': test_acc,\n",
    "                'Features': features if features else []\n",
    "        })\n",
    "\n",
    "    #evalution dataframe is returned\n",
    "    return pd.DataFrame(results)"
   ]
  },
  {
   "cell_type": "code",
   "execution_count": 90,
   "id": "69b2232e-1896-4c3c-8f4e-c5c3f66fbacd",
   "metadata": {},
   "outputs": [],
   "source": [
    "def Training(df, select_cols):\n",
    "    # Use only selected columns + target\n",
    "    data = df[select_cols + ['FraudReported']].copy()\n",
    "    \n",
    "    X = data.drop('FraudReported', axis=1).values\n",
    "    y = data['FraudReported'].values\n",
    "\n",
    "    # Get index of 'Amount'\n",
    "    amount_idx = select_cols.index('Amount')\n",
    "\n",
    "    # Train-test split\n",
    "    X_train, X_test, y_train, y_test = train_test_split(X, y, stratify=y, test_size=0.3, random_state=42)\n",
    "\n",
    "    # Scale Amount only\n",
    "    scaler = MinMaxScaler()\n",
    "    X_train[:, amount_idx] = scaler.fit_transform(X_train[:, amount_idx].reshape(-1, 1)).ravel()\n",
    "    X_test[:, amount_idx] = scaler.transform(X_test[:, amount_idx].reshape(-1, 1)).ravel()\n",
    "\n",
    "    # Train all models\n",
    "    results_df = Model_Training(\n",
    "        X_train, y_train, X_test, y_test,\n",
    "        model_names=['LogisticRegression', 'DecisionTree', 'RandomForest', 'AdaBoost', 'GradientBoosting'],\n",
    "        param_grids=param_grids, features=select_cols\n",
    "    )\n",
    "\n",
    "    return results_df.sort_values(by=\"Test_acc_Score\", ascending=False)"
   ]
  },
  {
   "cell_type": "code",
   "execution_count": 46,
   "id": "f1a9e347-8e47-4d25-8798-947f2fe5f1a0",
   "metadata": {},
   "outputs": [
    {
     "name": "stdout",
     "output_type": "stream",
     "text": [
      "\n",
      "Training with features: ['IsInternational_Yes', 'Amount']\n",
      "Index(['IsInternational_Yes', 'Amount', 'FraudReported'], dtype='object')\n",
      "training.. LogisticRegression\n",
      "training.. DecisionTree\n",
      "training.. RandomForest\n",
      "training.. AdaBoost\n",
      "training.. GradientBoosting\n",
      "\n",
      "Training with features: ['AgeCategory_Adult', 'Amount']\n",
      "Index(['AgeCategory_Adult', 'Amount', 'FraudReported'], dtype='object')\n",
      "training.. LogisticRegression\n",
      "training.. DecisionTree\n",
      "training.. RandomForest\n",
      "training.. AdaBoost\n",
      "training.. GradientBoosting\n",
      "\n",
      "Training with features: ['AgeCategory_Middle-Aged', 'Amount']\n",
      "Index(['AgeCategory_Middle-Aged', 'Amount', 'FraudReported'], dtype='object')\n",
      "training.. LogisticRegression\n",
      "training.. DecisionTree\n",
      "training.. RandomForest\n",
      "training.. AdaBoost\n",
      "training.. GradientBoosting\n",
      "\n",
      "Training with features: ['AgeCategory_Late-Middle-Aged', 'Amount']\n",
      "Index(['AgeCategory_Late-Middle-Aged', 'Amount', 'FraudReported'], dtype='object')\n",
      "training.. LogisticRegression\n",
      "training.. DecisionTree\n",
      "training.. RandomForest\n",
      "training.. AdaBoost\n",
      "training.. GradientBoosting\n",
      "\n",
      "Training with features: ['AgeCategory_Senior', 'Amount']\n",
      "Index(['AgeCategory_Senior', 'Amount', 'FraudReported'], dtype='object')\n",
      "training.. LogisticRegression\n",
      "training.. DecisionTree\n",
      "training.. RandomForest\n",
      "training.. AdaBoost\n",
      "training.. GradientBoosting\n",
      "\n",
      "Training with features: ['TransactionType_Online', 'Amount']\n",
      "Index(['TransactionType_Online', 'Amount', 'FraudReported'], dtype='object')\n",
      "training.. LogisticRegression\n",
      "training.. DecisionTree\n",
      "training.. RandomForest\n",
      "training.. AdaBoost\n",
      "training.. GradientBoosting\n",
      "\n",
      "Training with features: ['TransactionType_POS', 'Amount']\n",
      "Index(['TransactionType_POS', 'Amount', 'FraudReported'], dtype='object')\n",
      "training.. LogisticRegression\n",
      "training.. DecisionTree\n",
      "training.. RandomForest\n",
      "training.. AdaBoost\n",
      "training.. GradientBoosting\n"
     ]
    }
   ],
   "source": [
    "fraud_f1 = Create_Columns(fraud)\n",
    "\n",
    "features_list = []\n",
    "\n",
    "cats = ['IsInternational_Yes',\n",
    "        'AgeCategory_Adult', 'AgeCategory_Middle-Aged', \n",
    "        'AgeCategory_Late-Middle-Aged', 'AgeCategory_Senior',\n",
    "        'TransactionType_Online', 'TransactionType_POS']\n",
    "\n",
    "#loop through features in categories list\n",
    "for feature in cats:\n",
    "    features_list.append([feature, 'Amount'])\n",
    "\n",
    "all_results = []\n",
    "\n",
    "#loop though the combined features list of list\n",
    "for combo in features_list:\n",
    "    print(f\"\\nTraining with features: {combo}\")\n",
    "\n",
    "    #train on combo features\n",
    "    result_df = Training(fraud_f1, select_cols=combo)\n",
    "    \n",
    "    # Add the feature info for traceability\n",
    "    result_df['Features'] = [combo] * len(result_df)\n",
    "    \n",
    "    # take all models per feature set\n",
    "    all_results.append(result_df)  #enter dataframe\n",
    "\n",
    "# Combine all results into one DataFrame\n",
    "final_results = pd.concat(all_results).reset_index(drop=True)"
   ]
  },
  {
   "cell_type": "code",
   "execution_count": 41,
   "id": "e4e089fc-38f1-4989-8c68-445da795f8e2",
   "metadata": {},
   "outputs": [
    {
     "data": {
      "text/html": [
       "<div>\n",
       "<style scoped>\n",
       "    .dataframe tbody tr th:only-of-type {\n",
       "        vertical-align: middle;\n",
       "    }\n",
       "\n",
       "    .dataframe tbody tr th {\n",
       "        vertical-align: top;\n",
       "    }\n",
       "\n",
       "    .dataframe thead th {\n",
       "        text-align: right;\n",
       "    }\n",
       "</style>\n",
       "<table border=\"1\" class=\"dataframe\">\n",
       "  <thead>\n",
       "    <tr style=\"text-align: right;\">\n",
       "      <th></th>\n",
       "      <th>Model</th>\n",
       "      <th>BestParams</th>\n",
       "      <th>CV_acc_Score</th>\n",
       "      <th>Test_acc_Score</th>\n",
       "      <th>Features</th>\n",
       "    </tr>\n",
       "  </thead>\n",
       "  <tbody>\n",
       "    <tr>\n",
       "      <th>0</th>\n",
       "      <td>LogisticRegression</td>\n",
       "      <td>{'C': 0.01, 'penalty': 'l2', 'random_state': 4...</td>\n",
       "      <td>0.565972</td>\n",
       "      <td>0.6</td>\n",
       "      <td>[IsInternational_Yes, Amount]</td>\n",
       "    </tr>\n",
       "    <tr>\n",
       "      <th>15</th>\n",
       "      <td>LogisticRegression</td>\n",
       "      <td>{'C': 0.01, 'penalty': 'l2', 'random_state': 4...</td>\n",
       "      <td>0.593750</td>\n",
       "      <td>0.6</td>\n",
       "      <td>[AgeCategory_Late-Middle-Aged, Amount]</td>\n",
       "    </tr>\n",
       "    <tr>\n",
       "      <th>20</th>\n",
       "      <td>LogisticRegression</td>\n",
       "      <td>{'C': 0.01, 'penalty': 'l2', 'random_state': 4...</td>\n",
       "      <td>0.593750</td>\n",
       "      <td>0.6</td>\n",
       "      <td>[AgeCategory_Senior, Amount]</td>\n",
       "    </tr>\n",
       "    <tr>\n",
       "      <th>25</th>\n",
       "      <td>LogisticRegression</td>\n",
       "      <td>{'C': 0.01, 'penalty': 'l2', 'random_state': 4...</td>\n",
       "      <td>0.510417</td>\n",
       "      <td>0.6</td>\n",
       "      <td>[TransactionType_Online, Amount]</td>\n",
       "    </tr>\n",
       "    <tr>\n",
       "      <th>26</th>\n",
       "      <td>GradientBoosting</td>\n",
       "      <td>{'learning_rate': 0.01, 'max_depth': 2, 'min_s...</td>\n",
       "      <td>0.513889</td>\n",
       "      <td>0.6</td>\n",
       "      <td>[TransactionType_Online, Amount]</td>\n",
       "    </tr>\n",
       "  </tbody>\n",
       "</table>\n",
       "</div>"
      ],
      "text/plain": [
       "                 Model                                         BestParams  \\\n",
       "0   LogisticRegression  {'C': 0.01, 'penalty': 'l2', 'random_state': 4...   \n",
       "15  LogisticRegression  {'C': 0.01, 'penalty': 'l2', 'random_state': 4...   \n",
       "20  LogisticRegression  {'C': 0.01, 'penalty': 'l2', 'random_state': 4...   \n",
       "25  LogisticRegression  {'C': 0.01, 'penalty': 'l2', 'random_state': 4...   \n",
       "26    GradientBoosting  {'learning_rate': 0.01, 'max_depth': 2, 'min_s...   \n",
       "\n",
       "    CV_acc_Score  Test_acc_Score                                Features  \n",
       "0       0.565972             0.6           [IsInternational_Yes, Amount]  \n",
       "15      0.593750             0.6  [AgeCategory_Late-Middle-Aged, Amount]  \n",
       "20      0.593750             0.6            [AgeCategory_Senior, Amount]  \n",
       "25      0.510417             0.6        [TransactionType_Online, Amount]  \n",
       "26      0.513889             0.6        [TransactionType_Online, Amount]  "
      ]
     },
     "execution_count": 41,
     "metadata": {},
     "output_type": "execute_result"
    }
   ],
   "source": [
    "final_results.sort_values(by=\"Test_acc_Score\", ascending=False).head()"
   ]
  },
  {
   "cell_type": "markdown",
   "id": "922f4daa-539b-4c03-acde-6321cd161910",
   "metadata": {},
   "source": [
    "###### Train 2 features + fraud model"
   ]
  },
  {
   "cell_type": "code",
   "execution_count": 88,
   "id": "905bb56c-4429-4f8c-958b-2c7ab91a3396",
   "metadata": {},
   "outputs": [],
   "source": [
    "fraud = pd.read_json(\"fraud_transactions.json\", lines=True)"
   ]
  },
  {
   "cell_type": "code",
   "execution_count": 50,
   "id": "38b86cef-19a8-4490-8b46-0785a1c741c6",
   "metadata": {},
   "outputs": [
    {
     "name": "stdout",
     "output_type": "stream",
     "text": [
      "\n",
      "Training with features: ['IsInternational_Yes__AgeCategory_Adult', 'Amount']\n",
      "Index(['IsInternational_Yes__AgeCategory_Adult', 'Amount', 'FraudReported'], dtype='object')\n",
      "training.. LogisticRegression\n",
      "training.. DecisionTree\n",
      "training.. RandomForest\n",
      "training.. AdaBoost\n",
      "training.. GradientBoosting\n",
      "\n",
      "Training with features: ['IsInternational_Yes__AgeCategory_Middle-Aged', 'Amount']\n",
      "Index(['IsInternational_Yes__AgeCategory_Middle-Aged', 'Amount',\n",
      "       'FraudReported'],\n",
      "      dtype='object')\n",
      "training.. LogisticRegression\n",
      "training.. DecisionTree\n",
      "training.. RandomForest\n",
      "training.. AdaBoost\n",
      "training.. GradientBoosting\n",
      "\n",
      "Training with features: ['IsInternational_Yes__AgeCategory_Late-Middle-Aged', 'Amount']\n",
      "Index(['IsInternational_Yes__AgeCategory_Late-Middle-Aged', 'Amount',\n",
      "       'FraudReported'],\n",
      "      dtype='object')\n",
      "training.. LogisticRegression\n",
      "training.. DecisionTree\n",
      "training.. RandomForest\n",
      "training.. AdaBoost\n",
      "training.. GradientBoosting\n",
      "\n",
      "Training with features: ['IsInternational_Yes__AgeCategory_Senior', 'Amount']\n",
      "Index(['IsInternational_Yes__AgeCategory_Senior', 'Amount', 'FraudReported'], dtype='object')\n",
      "training.. LogisticRegression\n",
      "training.. DecisionTree\n",
      "training.. RandomForest\n",
      "training.. AdaBoost\n",
      "training.. GradientBoosting\n",
      "\n",
      "Training with features: ['IsInternational_Yes__TransactionType_Online', 'Amount']\n",
      "Index(['IsInternational_Yes__TransactionType_Online', 'Amount',\n",
      "       'FraudReported'],\n",
      "      dtype='object')\n",
      "training.. LogisticRegression\n",
      "training.. DecisionTree\n",
      "training.. RandomForest\n",
      "training.. AdaBoost\n",
      "training.. GradientBoosting\n",
      "\n",
      "Training with features: ['IsInternational_Yes__TransactionType_POS', 'Amount']\n",
      "Index(['IsInternational_Yes__TransactionType_POS', 'Amount', 'FraudReported'], dtype='object')\n",
      "training.. LogisticRegression\n",
      "training.. DecisionTree\n",
      "training.. RandomForest\n",
      "training.. AdaBoost\n",
      "training.. GradientBoosting\n",
      "\n",
      "Training with features: ['AgeCategory_Adult__TransactionType_Online', 'Amount']\n",
      "Index(['AgeCategory_Adult__TransactionType_Online', 'Amount', 'FraudReported'], dtype='object')\n",
      "training.. LogisticRegression\n",
      "training.. DecisionTree\n",
      "training.. RandomForest\n",
      "training.. AdaBoost\n",
      "training.. GradientBoosting\n",
      "\n",
      "Training with features: ['AgeCategory_Adult__TransactionType_POS', 'Amount']\n",
      "Index(['AgeCategory_Adult__TransactionType_POS', 'Amount', 'FraudReported'], dtype='object')\n",
      "training.. LogisticRegression\n",
      "training.. DecisionTree\n",
      "training.. RandomForest\n",
      "training.. AdaBoost\n",
      "training.. GradientBoosting\n",
      "\n",
      "Training with features: ['AgeCategory_Middle-Aged__TransactionType_Online', 'Amount']\n",
      "Index(['AgeCategory_Middle-Aged__TransactionType_Online', 'Amount',\n",
      "       'FraudReported'],\n",
      "      dtype='object')\n",
      "training.. LogisticRegression\n",
      "training.. DecisionTree\n",
      "training.. RandomForest\n",
      "training.. AdaBoost\n",
      "training.. GradientBoosting\n",
      "\n",
      "Training with features: ['AgeCategory_Middle-Aged__TransactionType_POS', 'Amount']\n",
      "Index(['AgeCategory_Middle-Aged__TransactionType_POS', 'Amount',\n",
      "       'FraudReported'],\n",
      "      dtype='object')\n",
      "training.. LogisticRegression\n",
      "training.. DecisionTree\n",
      "training.. RandomForest\n",
      "training.. AdaBoost\n",
      "training.. GradientBoosting\n",
      "\n",
      "Training with features: ['AgeCategory_Late-Middle-Aged__TransactionType_Online', 'Amount']\n",
      "Index(['AgeCategory_Late-Middle-Aged__TransactionType_Online', 'Amount',\n",
      "       'FraudReported'],\n",
      "      dtype='object')\n",
      "training.. LogisticRegression\n",
      "training.. DecisionTree\n",
      "training.. RandomForest\n",
      "training.. AdaBoost\n",
      "training.. GradientBoosting\n",
      "\n",
      "Training with features: ['AgeCategory_Late-Middle-Aged__TransactionType_POS', 'Amount']\n",
      "Index(['AgeCategory_Late-Middle-Aged__TransactionType_POS', 'Amount',\n",
      "       'FraudReported'],\n",
      "      dtype='object')\n",
      "training.. LogisticRegression\n",
      "training.. DecisionTree\n",
      "training.. RandomForest\n",
      "training.. AdaBoost\n",
      "training.. GradientBoosting\n",
      "\n",
      "Training with features: ['AgeCategory_Senior__TransactionType_Online', 'Amount']\n",
      "Index(['AgeCategory_Senior__TransactionType_Online', 'Amount',\n",
      "       'FraudReported'],\n",
      "      dtype='object')\n",
      "training.. LogisticRegression\n",
      "training.. DecisionTree\n",
      "training.. RandomForest\n",
      "training.. AdaBoost\n",
      "training.. GradientBoosting\n",
      "\n",
      "Training with features: ['AgeCategory_Senior__TransactionType_POS', 'Amount']\n",
      "Index(['AgeCategory_Senior__TransactionType_POS', 'Amount', 'FraudReported'], dtype='object')\n",
      "training.. LogisticRegression\n",
      "training.. DecisionTree\n",
      "training.. RandomForest\n",
      "training.. AdaBoost\n",
      "training.. GradientBoosting\n"
     ]
    }
   ],
   "source": [
    "# pre-processed data\n",
    "fraud_f2 = Create_Columns(fraud)\n",
    "\n",
    "# feature groups\n",
    "international2 = ['IsInternational_Yes']\n",
    "age_features2 = ['AgeCategory_Adult', 'AgeCategory_Middle-Aged', \n",
    "                'AgeCategory_Late-Middle-Aged', 'AgeCategory_Senior']\n",
    "txn_features2 = ['TransactionType_Online', 'TransactionType_POS']\n",
    "\n",
    "# 2-feature combinations with Amount\n",
    "features_list2 = []\n",
    "\n",
    "# 1. International × Age/Txn\n",
    "for int_feat in international2:\n",
    "    for f in age_features2 + txn_features2:\n",
    "        features_list2.append([int_feat, f, 'Amount'])\n",
    "\n",
    "# 2. Age × Transaction\n",
    "for age in age_features2:\n",
    "    for txn in txn_features2:\n",
    "        features_list2.append([age, txn, 'Amount'])\n",
    "\n",
    "# Interaction features in fraud_f2\n",
    "for feat1, feat2, _ in features_list2:  # last one is always 'Amount'\n",
    "    new_col = f'{feat1}__{feat2}'\n",
    "    fraud_f2[new_col] = fraud_f2[feat1] * fraud_f2[feat2]\n",
    "\n",
    "# new feature list using created interaction columns\n",
    "interaction_features_list2 = []\n",
    "\n",
    "for feat1, feat2, _ in features_list2:\n",
    "    new_col = f'{feat1}__{feat2}'\n",
    "    interaction_features_list2.append([new_col, 'Amount'])\n",
    "\n",
    "# Train model on each feature interaction + amount\n",
    "all_results2 = []\n",
    "\n",
    "for feat1, feat2, _ in features_list2:\n",
    "    interaction_col2 = f'{feat1}__{feat2}'\n",
    "    combo = [interaction_col2, 'Amount']\n",
    "\n",
    "    print(f\"\\nTraining with features: {combo}\")\n",
    "    \n",
    "    # Make a copy of df and drop the base features used in the interaction\n",
    "    df_temp = fraud_f2.drop(columns=[feat1, feat2], errors='ignore').copy()\n",
    "    \n",
    "    # Train\n",
    "    result_df2 = Training(df_temp, select_cols=combo)\n",
    "\n",
    "    # Add feature info\n",
    "    result_df2['Features'] = [combo] * len(result_df2)\n",
    "    \n",
    "    all_results2.append(result_df2)\n",
    "\n",
    "# Combine all results into one DataFrame\n",
    "final_results2 = pd.concat(all_results2).reset_index(drop=True)"
   ]
  },
  {
   "cell_type": "code",
   "execution_count": 51,
   "id": "60d492f6-0ff0-425c-915e-639559c9a4ef",
   "metadata": {},
   "outputs": [
    {
     "data": {
      "text/html": [
       "<div>\n",
       "<style scoped>\n",
       "    .dataframe tbody tr th:only-of-type {\n",
       "        vertical-align: middle;\n",
       "    }\n",
       "\n",
       "    .dataframe tbody tr th {\n",
       "        vertical-align: top;\n",
       "    }\n",
       "\n",
       "    .dataframe thead th {\n",
       "        text-align: right;\n",
       "    }\n",
       "</style>\n",
       "<table border=\"1\" class=\"dataframe\">\n",
       "  <thead>\n",
       "    <tr style=\"text-align: right;\">\n",
       "      <th></th>\n",
       "      <th>Model</th>\n",
       "      <th>BestParams</th>\n",
       "      <th>CV_acc_Score</th>\n",
       "      <th>Test_acc_Score</th>\n",
       "      <th>Features</th>\n",
       "    </tr>\n",
       "  </thead>\n",
       "  <tbody>\n",
       "    <tr>\n",
       "      <th>0</th>\n",
       "      <td>LogisticRegression</td>\n",
       "      <td>{'C': 0.01, 'penalty': 'l2', 'random_state': 4...</td>\n",
       "      <td>0.59375</td>\n",
       "      <td>0.6</td>\n",
       "      <td>[IsInternational_Yes__AgeCategory_Adult, Amount]</td>\n",
       "    </tr>\n",
       "    <tr>\n",
       "      <th>15</th>\n",
       "      <td>LogisticRegression</td>\n",
       "      <td>{'C': 0.01, 'penalty': 'l2', 'random_state': 4...</td>\n",
       "      <td>0.59375</td>\n",
       "      <td>0.6</td>\n",
       "      <td>[IsInternational_Yes__AgeCategory_Senior, Amount]</td>\n",
       "    </tr>\n",
       "    <tr>\n",
       "      <th>65</th>\n",
       "      <td>LogisticRegression</td>\n",
       "      <td>{'C': 0.01, 'penalty': 'l2', 'random_state': 4...</td>\n",
       "      <td>0.59375</td>\n",
       "      <td>0.6</td>\n",
       "      <td>[AgeCategory_Senior__TransactionType_POS, Amount]</td>\n",
       "    </tr>\n",
       "    <tr>\n",
       "      <th>60</th>\n",
       "      <td>LogisticRegression</td>\n",
       "      <td>{'C': 0.01, 'penalty': 'l2', 'random_state': 4...</td>\n",
       "      <td>0.59375</td>\n",
       "      <td>0.6</td>\n",
       "      <td>[AgeCategory_Senior__TransactionType_Online, A...</td>\n",
       "    </tr>\n",
       "    <tr>\n",
       "      <th>55</th>\n",
       "      <td>LogisticRegression</td>\n",
       "      <td>{'C': 0.01, 'penalty': 'l2', 'random_state': 4...</td>\n",
       "      <td>0.59375</td>\n",
       "      <td>0.6</td>\n",
       "      <td>[AgeCategory_Late-Middle-Aged__TransactionType...</td>\n",
       "    </tr>\n",
       "  </tbody>\n",
       "</table>\n",
       "</div>"
      ],
      "text/plain": [
       "                 Model                                         BestParams  \\\n",
       "0   LogisticRegression  {'C': 0.01, 'penalty': 'l2', 'random_state': 4...   \n",
       "15  LogisticRegression  {'C': 0.01, 'penalty': 'l2', 'random_state': 4...   \n",
       "65  LogisticRegression  {'C': 0.01, 'penalty': 'l2', 'random_state': 4...   \n",
       "60  LogisticRegression  {'C': 0.01, 'penalty': 'l2', 'random_state': 4...   \n",
       "55  LogisticRegression  {'C': 0.01, 'penalty': 'l2', 'random_state': 4...   \n",
       "\n",
       "    CV_acc_Score  Test_acc_Score  \\\n",
       "0        0.59375             0.6   \n",
       "15       0.59375             0.6   \n",
       "65       0.59375             0.6   \n",
       "60       0.59375             0.6   \n",
       "55       0.59375             0.6   \n",
       "\n",
       "                                             Features  \n",
       "0    [IsInternational_Yes__AgeCategory_Adult, Amount]  \n",
       "15  [IsInternational_Yes__AgeCategory_Senior, Amount]  \n",
       "65  [AgeCategory_Senior__TransactionType_POS, Amount]  \n",
       "60  [AgeCategory_Senior__TransactionType_Online, A...  \n",
       "55  [AgeCategory_Late-Middle-Aged__TransactionType...  "
      ]
     },
     "execution_count": 51,
     "metadata": {},
     "output_type": "execute_result"
    }
   ],
   "source": [
    "final_results2.sort_values(by=\"Test_acc_Score\", ascending=False).head(5)"
   ]
  },
  {
   "cell_type": "code",
   "execution_count": null,
   "id": "30ee5391-173c-4d26-ad0d-55a5ec76641f",
   "metadata": {},
   "outputs": [],
   "source": []
  },
  {
   "cell_type": "code",
   "execution_count": 94,
   "id": "690940fb-0bb4-440c-8d0a-59cb077cd8d8",
   "metadata": {},
   "outputs": [
    {
     "name": "stdout",
     "output_type": "stream",
     "text": [
      "\n",
      "Training with features: ['Amount', 'TransactionType_Online', 'TransactionType_POS', 'AgeCategory_Middle-Aged', 'AgeCategory_Late-Middle-Aged', 'AgeCategory_Senior', 'IsInternational_Yes__AgeCategory_Adult']\n",
      "training.. LogisticRegression\n",
      "training.. DecisionTree\n",
      "training.. RandomForest\n",
      "training.. AdaBoost\n",
      "training.. GradientBoosting\n",
      "\n",
      "Training with features: ['Amount', 'TransactionType_Online', 'TransactionType_POS', 'AgeCategory_Adult', 'AgeCategory_Late-Middle-Aged', 'AgeCategory_Senior', 'IsInternational_Yes__AgeCategory_Middle-Aged']\n",
      "training.. LogisticRegression\n",
      "training.. DecisionTree\n",
      "training.. RandomForest\n",
      "training.. AdaBoost\n",
      "training.. GradientBoosting\n",
      "\n",
      "Training with features: ['Amount', 'TransactionType_Online', 'TransactionType_POS', 'AgeCategory_Adult', 'AgeCategory_Middle-Aged', 'AgeCategory_Senior', 'IsInternational_Yes__AgeCategory_Late-Middle-Aged']\n",
      "training.. LogisticRegression\n",
      "training.. DecisionTree\n",
      "training.. RandomForest\n",
      "training.. AdaBoost\n",
      "training.. GradientBoosting\n",
      "\n",
      "Training with features: ['Amount', 'TransactionType_Online', 'TransactionType_POS', 'AgeCategory_Adult', 'AgeCategory_Middle-Aged', 'AgeCategory_Late-Middle-Aged', 'IsInternational_Yes__AgeCategory_Senior']\n",
      "training.. LogisticRegression\n",
      "training.. DecisionTree\n",
      "training.. RandomForest\n",
      "training.. AdaBoost\n",
      "training.. GradientBoosting\n",
      "\n",
      "Training with features: ['Amount', 'TransactionType_POS', 'AgeCategory_Adult', 'AgeCategory_Middle-Aged', 'AgeCategory_Late-Middle-Aged', 'AgeCategory_Senior', 'IsInternational_Yes__TransactionType_Online']\n",
      "training.. LogisticRegression\n",
      "training.. DecisionTree\n",
      "training.. RandomForest\n",
      "training.. AdaBoost\n",
      "training.. GradientBoosting\n",
      "\n",
      "Training with features: ['Amount', 'TransactionType_Online', 'AgeCategory_Adult', 'AgeCategory_Middle-Aged', 'AgeCategory_Late-Middle-Aged', 'AgeCategory_Senior', 'IsInternational_Yes__TransactionType_POS']\n",
      "training.. LogisticRegression\n",
      "training.. DecisionTree\n",
      "training.. RandomForest\n",
      "training.. AdaBoost\n",
      "training.. GradientBoosting\n",
      "\n",
      "Training with features: ['Amount', 'TransactionType_POS', 'IsInternational_Yes', 'AgeCategory_Middle-Aged', 'AgeCategory_Late-Middle-Aged', 'AgeCategory_Senior', 'AgeCategory_Adult__TransactionType_Online']\n",
      "training.. LogisticRegression\n",
      "training.. DecisionTree\n",
      "training.. RandomForest\n",
      "training.. AdaBoost\n",
      "training.. GradientBoosting\n",
      "\n",
      "Training with features: ['Amount', 'TransactionType_Online', 'IsInternational_Yes', 'AgeCategory_Middle-Aged', 'AgeCategory_Late-Middle-Aged', 'AgeCategory_Senior', 'AgeCategory_Adult__TransactionType_POS']\n",
      "training.. LogisticRegression\n",
      "training.. DecisionTree\n",
      "training.. RandomForest\n",
      "training.. AdaBoost\n",
      "training.. GradientBoosting\n",
      "\n",
      "Training with features: ['Amount', 'TransactionType_POS', 'IsInternational_Yes', 'AgeCategory_Adult', 'AgeCategory_Late-Middle-Aged', 'AgeCategory_Senior', 'AgeCategory_Middle-Aged__TransactionType_Online']\n",
      "training.. LogisticRegression\n",
      "training.. DecisionTree\n",
      "training.. RandomForest\n",
      "training.. AdaBoost\n",
      "training.. GradientBoosting\n",
      "\n",
      "Training with features: ['Amount', 'TransactionType_Online', 'IsInternational_Yes', 'AgeCategory_Adult', 'AgeCategory_Late-Middle-Aged', 'AgeCategory_Senior', 'AgeCategory_Middle-Aged__TransactionType_POS']\n",
      "training.. LogisticRegression\n",
      "training.. DecisionTree\n",
      "training.. RandomForest\n",
      "training.. AdaBoost\n",
      "training.. GradientBoosting\n",
      "\n",
      "Training with features: ['Amount', 'TransactionType_POS', 'IsInternational_Yes', 'AgeCategory_Adult', 'AgeCategory_Middle-Aged', 'AgeCategory_Senior', 'AgeCategory_Late-Middle-Aged__TransactionType_Online']\n",
      "training.. LogisticRegression\n",
      "training.. DecisionTree\n",
      "training.. RandomForest\n",
      "training.. AdaBoost\n",
      "training.. GradientBoosting\n",
      "\n",
      "Training with features: ['Amount', 'TransactionType_Online', 'IsInternational_Yes', 'AgeCategory_Adult', 'AgeCategory_Middle-Aged', 'AgeCategory_Senior', 'AgeCategory_Late-Middle-Aged__TransactionType_POS']\n",
      "training.. LogisticRegression\n",
      "training.. DecisionTree\n",
      "training.. RandomForest\n",
      "training.. AdaBoost\n",
      "training.. GradientBoosting\n",
      "\n",
      "Training with features: ['Amount', 'TransactionType_POS', 'IsInternational_Yes', 'AgeCategory_Adult', 'AgeCategory_Middle-Aged', 'AgeCategory_Late-Middle-Aged', 'AgeCategory_Senior__TransactionType_Online']\n",
      "training.. LogisticRegression\n",
      "training.. DecisionTree\n",
      "training.. RandomForest\n",
      "training.. AdaBoost\n",
      "training.. GradientBoosting\n",
      "\n",
      "Training with features: ['Amount', 'TransactionType_Online', 'IsInternational_Yes', 'AgeCategory_Adult', 'AgeCategory_Middle-Aged', 'AgeCategory_Late-Middle-Aged', 'AgeCategory_Senior__TransactionType_POS']\n",
      "training.. LogisticRegression\n",
      "training.. DecisionTree\n",
      "training.. RandomForest\n",
      "training.. AdaBoost\n",
      "training.. GradientBoosting\n"
     ]
    }
   ],
   "source": [
    "fraud = pd.read_json(\"fraud_transactions.json\", lines=True)\n",
    "\n",
    "# pre-processed data\n",
    "fraud_f3 = Create_Columns(fraud)\n",
    "\n",
    "# feature groups\n",
    "international3 = ['IsInternational_Yes']\n",
    "age_features3 = ['AgeCategory_Adult', 'AgeCategory_Middle-Aged', \n",
    "                'AgeCategory_Late-Middle-Aged', 'AgeCategory_Senior']\n",
    "txn_features3 = ['TransactionType_Online', 'TransactionType_POS']\n",
    "\n",
    "# 2-feature combinations with Amount\n",
    "features_list3 = []\n",
    "\n",
    "# 1. International × Age/Txn\n",
    "for int_feat in international3:\n",
    "    for f in age_features3 + txn_features3:\n",
    "        features_list3.append([int_feat, f, 'Amount'])\n",
    "\n",
    "# 2. Age × Transaction\n",
    "for age in age_features3:\n",
    "    for txn in txn_features3:\n",
    "        features_list3.append([age, txn, 'Amount'])\n",
    "\n",
    "# Train model on each interaction feature + Amount\n",
    "all_results3 = []\n",
    "\n",
    "for feat1, feat2, _ in features_list3:\n",
    "    # Start from a clean copy every time\n",
    "    df_temp = fraud_f3.copy()\n",
    "\n",
    "    # Create new interaction feature\n",
    "    interaction_col = f'{feat1}__{feat2}'\n",
    "    df_temp[interaction_col] = df_temp[feat1] * df_temp[feat2]\n",
    "\n",
    "    # Drop the individual features (optional)\n",
    "    df_temp = df_temp.drop(columns=[feat1, feat2], errors='ignore')\n",
    "\n",
    "    # combo = [interaction_col2, 'Amount']\n",
    "    # print(f\"\\nTraining with features: {combo}\")\n",
    "\n",
    "    # Use all current columns except target as features\n",
    "    selected_features = [col for col in df_temp.columns if col != 'FraudReported']\n",
    "\n",
    "    print(f\"\\nTraining with features: {selected_features}\")\n",
    "    \n",
    "    # Train model\n",
    "    result_df = Training(df_temp, select_cols=selected_features)\n",
    "\n",
    "    # Record metadata\n",
    "    result_df['Features'] = [selected_features] * len(result_df)\n",
    "\n",
    "    # Save result\n",
    "    all_results3.append(result_df)\n",
    "\n",
    "# Combine results\n",
    "final_results3 = pd.concat(all_results3).reset_index(drop=True)"
   ]
  },
  {
   "cell_type": "code",
   "execution_count": 95,
   "id": "c33999da-4571-46c0-bf3e-7cb47336ff19",
   "metadata": {},
   "outputs": [
    {
     "data": {
      "text/html": [
       "<div>\n",
       "<style scoped>\n",
       "    .dataframe tbody tr th:only-of-type {\n",
       "        vertical-align: middle;\n",
       "    }\n",
       "\n",
       "    .dataframe tbody tr th {\n",
       "        vertical-align: top;\n",
       "    }\n",
       "\n",
       "    .dataframe thead th {\n",
       "        text-align: right;\n",
       "    }\n",
       "</style>\n",
       "<table border=\"1\" class=\"dataframe\">\n",
       "  <thead>\n",
       "    <tr style=\"text-align: right;\">\n",
       "      <th></th>\n",
       "      <th>Model</th>\n",
       "      <th>BestParams</th>\n",
       "      <th>CV_acc_Score</th>\n",
       "      <th>Test_acc_Score</th>\n",
       "      <th>Features</th>\n",
       "    </tr>\n",
       "  </thead>\n",
       "  <tbody>\n",
       "    <tr>\n",
       "      <th>0</th>\n",
       "      <td>LogisticRegression</td>\n",
       "      <td>{'C': 0.01, 'penalty': 'l2', 'random_state': 4...</td>\n",
       "      <td>0.510417</td>\n",
       "      <td>0.6</td>\n",
       "      <td>[Amount, TransactionType_Online, TransactionTy...</td>\n",
       "    </tr>\n",
       "    <tr>\n",
       "      <th>15</th>\n",
       "      <td>LogisticRegression</td>\n",
       "      <td>{'C': 0.01, 'penalty': 'l2', 'random_state': 4...</td>\n",
       "      <td>0.482639</td>\n",
       "      <td>0.6</td>\n",
       "      <td>[Amount, TransactionType_Online, TransactionTy...</td>\n",
       "    </tr>\n",
       "    <tr>\n",
       "      <th>65</th>\n",
       "      <td>LogisticRegression</td>\n",
       "      <td>{'C': 0.01, 'penalty': 'l2', 'random_state': 4...</td>\n",
       "      <td>0.482639</td>\n",
       "      <td>0.6</td>\n",
       "      <td>[Amount, TransactionType_Online, IsInternation...</td>\n",
       "    </tr>\n",
       "    <tr>\n",
       "      <th>60</th>\n",
       "      <td>LogisticRegression</td>\n",
       "      <td>{'C': 0.01, 'penalty': 'l2', 'random_state': 4...</td>\n",
       "      <td>0.510417</td>\n",
       "      <td>0.6</td>\n",
       "      <td>[Amount, TransactionType_POS, IsInternational_...</td>\n",
       "    </tr>\n",
       "    <tr>\n",
       "      <th>55</th>\n",
       "      <td>LogisticRegression</td>\n",
       "      <td>{'C': 0.01, 'penalty': 'l2', 'random_state': 4...</td>\n",
       "      <td>0.482639</td>\n",
       "      <td>0.6</td>\n",
       "      <td>[Amount, TransactionType_Online, IsInternation...</td>\n",
       "    </tr>\n",
       "  </tbody>\n",
       "</table>\n",
       "</div>"
      ],
      "text/plain": [
       "                 Model                                         BestParams  \\\n",
       "0   LogisticRegression  {'C': 0.01, 'penalty': 'l2', 'random_state': 4...   \n",
       "15  LogisticRegression  {'C': 0.01, 'penalty': 'l2', 'random_state': 4...   \n",
       "65  LogisticRegression  {'C': 0.01, 'penalty': 'l2', 'random_state': 4...   \n",
       "60  LogisticRegression  {'C': 0.01, 'penalty': 'l2', 'random_state': 4...   \n",
       "55  LogisticRegression  {'C': 0.01, 'penalty': 'l2', 'random_state': 4...   \n",
       "\n",
       "    CV_acc_Score  Test_acc_Score  \\\n",
       "0       0.510417             0.6   \n",
       "15      0.482639             0.6   \n",
       "65      0.482639             0.6   \n",
       "60      0.510417             0.6   \n",
       "55      0.482639             0.6   \n",
       "\n",
       "                                             Features  \n",
       "0   [Amount, TransactionType_Online, TransactionTy...  \n",
       "15  [Amount, TransactionType_Online, TransactionTy...  \n",
       "65  [Amount, TransactionType_Online, IsInternation...  \n",
       "60  [Amount, TransactionType_POS, IsInternational_...  \n",
       "55  [Amount, TransactionType_Online, IsInternation...  "
      ]
     },
     "execution_count": 95,
     "metadata": {},
     "output_type": "execute_result"
    }
   ],
   "source": [
    "final_results3.sort_values(by=\"Test_acc_Score\", ascending=False).head(5)"
   ]
  },
  {
   "cell_type": "markdown",
   "id": "bc12fcb0-c16d-4571-bf77-1ff2ffea8aff",
   "metadata": {},
   "source": [
    "###### Train 3 features + fraud model"
   ]
  },
  {
   "cell_type": "code",
   "execution_count": 106,
   "id": "c8982def-4155-4114-8280-54b19a383e8f",
   "metadata": {},
   "outputs": [
    {
     "name": "stdout",
     "output_type": "stream",
     "text": [
      "\n",
      "Training with features: ['IsInternational_Yes__TransactionType_Online__AgeCategory_Adult', 'Amount']\n",
      "training.. LogisticRegression\n",
      "training.. DecisionTree\n",
      "training.. RandomForest\n",
      "training.. AdaBoost\n",
      "training.. GradientBoosting\n",
      "\n",
      "Training with features: ['IsInternational_Yes__TransactionType_Online__AgeCategory_Middle-Aged', 'Amount']\n",
      "training.. LogisticRegression\n",
      "training.. DecisionTree\n",
      "training.. RandomForest\n",
      "training.. AdaBoost\n",
      "training.. GradientBoosting\n",
      "\n",
      "Training with features: ['IsInternational_Yes__TransactionType_Online__AgeCategory_Late-Middle-Aged', 'Amount']\n",
      "training.. LogisticRegression\n",
      "training.. DecisionTree\n",
      "training.. RandomForest\n",
      "training.. AdaBoost\n",
      "training.. GradientBoosting\n",
      "\n",
      "Training with features: ['IsInternational_Yes__TransactionType_Online__AgeCategory_Senior', 'Amount']\n",
      "training.. LogisticRegression\n",
      "training.. DecisionTree\n",
      "training.. RandomForest\n",
      "training.. AdaBoost\n",
      "training.. GradientBoosting\n",
      "\n",
      "Training with features: ['IsInternational_Yes__TransactionType_POS__AgeCategory_Adult', 'Amount']\n",
      "training.. LogisticRegression\n",
      "training.. DecisionTree\n",
      "training.. RandomForest\n",
      "training.. AdaBoost\n",
      "training.. GradientBoosting\n",
      "\n",
      "Training with features: ['IsInternational_Yes__TransactionType_POS__AgeCategory_Middle-Aged', 'Amount']\n",
      "training.. LogisticRegression\n",
      "training.. DecisionTree\n",
      "training.. RandomForest\n",
      "training.. AdaBoost\n",
      "training.. GradientBoosting\n",
      "\n",
      "Training with features: ['IsInternational_Yes__TransactionType_POS__AgeCategory_Late-Middle-Aged', 'Amount']\n",
      "training.. LogisticRegression\n",
      "training.. DecisionTree\n",
      "training.. RandomForest\n",
      "training.. AdaBoost\n",
      "training.. GradientBoosting\n",
      "\n",
      "Training with features: ['IsInternational_Yes__TransactionType_POS__AgeCategory_Senior', 'Amount']\n",
      "training.. LogisticRegression\n",
      "training.. DecisionTree\n",
      "training.. RandomForest\n",
      "training.. AdaBoost\n",
      "training.. GradientBoosting\n"
     ]
    }
   ],
   "source": [
    "# pre-processed data\n",
    "fraud_f4 = Create_Columns(fraud)\n",
    "\n",
    "all_results4 = []\n",
    "\n",
    "# Base categories\n",
    "international4 = ['IsInternational_Yes']\n",
    "age_features4 = ['AgeCategory_Adult', 'AgeCategory_Middle-Aged', \n",
    "                 'AgeCategory_Late-Middle-Aged', 'AgeCategory_Senior']\n",
    "txn_features4 = ['TransactionType_Online', 'TransactionType_POS']\n",
    "\n",
    "# Generate all 3-way combinations: Intl × Txn × Age\n",
    "three_way_combos = list(product(international4, txn_features4, age_features4))\n",
    "\n",
    "for feat_combo in three_way_combos:\n",
    "    # Start with a fresh copy for each combo\n",
    "    fraud_f5 = fraud_f4.copy()\n",
    "\n",
    "    # Create interaction feature\n",
    "    interaction_name = '__'.join(feat_combo)\n",
    "    fraud_f5[interaction_name] = fraud_f5[feat_combo[0]]\n",
    "    for f in feat_combo[1:]:\n",
    "        fraud_f5[interaction_name] *= fraud_f5[f]\n",
    "\n",
    "    # Drop original component features (optional)\n",
    "    fraud_f5 = fraud_f5.drop(columns=list(feat_combo), errors='ignore')\n",
    "\n",
    "    # Final features to train on\n",
    "    selected_features = [interaction_name, 'Amount']\n",
    "\n",
    "    print(f\"\\nTraining with features: {selected_features}\")\n",
    "    \n",
    "    # Train model\n",
    "    result_df4 = Training(fraud_f5, select_cols=selected_features)\n",
    "\n",
    "    # Add feature info\n",
    "    result_df4['Features'] = [selected_features] * len(result_df4)\n",
    "\n",
    "    # Collect results\n",
    "    all_results4.append(result_df4)\n",
    "\n",
    "# Final combined results\n",
    "final_results4 = pd.concat(all_results4).reset_index(drop=True)"
   ]
  },
  {
   "cell_type": "code",
   "execution_count": 107,
   "id": "dc1ce230-fb9d-4d65-b846-6aba888de1c8",
   "metadata": {},
   "outputs": [
    {
     "data": {
      "text/html": [
       "<div>\n",
       "<style scoped>\n",
       "    .dataframe tbody tr th:only-of-type {\n",
       "        vertical-align: middle;\n",
       "    }\n",
       "\n",
       "    .dataframe tbody tr th {\n",
       "        vertical-align: top;\n",
       "    }\n",
       "\n",
       "    .dataframe thead th {\n",
       "        text-align: right;\n",
       "    }\n",
       "</style>\n",
       "<table border=\"1\" class=\"dataframe\">\n",
       "  <thead>\n",
       "    <tr style=\"text-align: right;\">\n",
       "      <th></th>\n",
       "      <th>Model</th>\n",
       "      <th>BestParams</th>\n",
       "      <th>CV_acc_Score</th>\n",
       "      <th>Test_acc_Score</th>\n",
       "      <th>Features</th>\n",
       "    </tr>\n",
       "  </thead>\n",
       "  <tbody>\n",
       "    <tr>\n",
       "      <th>0</th>\n",
       "      <td>LogisticRegression</td>\n",
       "      <td>{'C': 0.01, 'penalty': 'l2', 'random_state': 4...</td>\n",
       "      <td>0.59375</td>\n",
       "      <td>0.6</td>\n",
       "      <td>[IsInternational_Yes__TransactionType_Online__...</td>\n",
       "    </tr>\n",
       "    <tr>\n",
       "      <th>10</th>\n",
       "      <td>LogisticRegression</td>\n",
       "      <td>{'C': 0.01, 'penalty': 'l2', 'random_state': 4...</td>\n",
       "      <td>0.59375</td>\n",
       "      <td>0.6</td>\n",
       "      <td>[IsInternational_Yes__TransactionType_Online__...</td>\n",
       "    </tr>\n",
       "    <tr>\n",
       "      <th>35</th>\n",
       "      <td>LogisticRegression</td>\n",
       "      <td>{'C': 0.01, 'penalty': 'l2', 'random_state': 4...</td>\n",
       "      <td>0.59375</td>\n",
       "      <td>0.6</td>\n",
       "      <td>[IsInternational_Yes__TransactionType_POS__Age...</td>\n",
       "    </tr>\n",
       "    <tr>\n",
       "      <th>30</th>\n",
       "      <td>LogisticRegression</td>\n",
       "      <td>{'C': 0.01, 'penalty': 'l2', 'random_state': 4...</td>\n",
       "      <td>0.59375</td>\n",
       "      <td>0.6</td>\n",
       "      <td>[IsInternational_Yes__TransactionType_POS__Age...</td>\n",
       "    </tr>\n",
       "    <tr>\n",
       "      <th>25</th>\n",
       "      <td>LogisticRegression</td>\n",
       "      <td>{'C': 0.01, 'penalty': 'l2', 'random_state': 4...</td>\n",
       "      <td>0.59375</td>\n",
       "      <td>0.6</td>\n",
       "      <td>[IsInternational_Yes__TransactionType_POS__Age...</td>\n",
       "    </tr>\n",
       "  </tbody>\n",
       "</table>\n",
       "</div>"
      ],
      "text/plain": [
       "                 Model                                         BestParams  \\\n",
       "0   LogisticRegression  {'C': 0.01, 'penalty': 'l2', 'random_state': 4...   \n",
       "10  LogisticRegression  {'C': 0.01, 'penalty': 'l2', 'random_state': 4...   \n",
       "35  LogisticRegression  {'C': 0.01, 'penalty': 'l2', 'random_state': 4...   \n",
       "30  LogisticRegression  {'C': 0.01, 'penalty': 'l2', 'random_state': 4...   \n",
       "25  LogisticRegression  {'C': 0.01, 'penalty': 'l2', 'random_state': 4...   \n",
       "\n",
       "    CV_acc_Score  Test_acc_Score  \\\n",
       "0        0.59375             0.6   \n",
       "10       0.59375             0.6   \n",
       "35       0.59375             0.6   \n",
       "30       0.59375             0.6   \n",
       "25       0.59375             0.6   \n",
       "\n",
       "                                             Features  \n",
       "0   [IsInternational_Yes__TransactionType_Online__...  \n",
       "10  [IsInternational_Yes__TransactionType_Online__...  \n",
       "35  [IsInternational_Yes__TransactionType_POS__Age...  \n",
       "30  [IsInternational_Yes__TransactionType_POS__Age...  \n",
       "25  [IsInternational_Yes__TransactionType_POS__Age...  "
      ]
     },
     "execution_count": 107,
     "metadata": {},
     "output_type": "execute_result"
    }
   ],
   "source": [
    "final_results4.sort_values(by=\"Test_acc_Score\", ascending=False).head(5)"
   ]
  },
  {
   "cell_type": "code",
   "execution_count": 143,
   "id": "7e98c49e-81a2-45fa-9baa-bc0e67c720b7",
   "metadata": {},
   "outputs": [
    {
     "name": "stdout",
     "output_type": "stream",
     "text": [
      "\n",
      "Training with features: ['Amount', 'TransactionType_POS', 'AgeCategory_Middle-Aged', 'AgeCategory_Late-Middle-Aged', 'AgeCategory_Senior', 'IsInternational_Yes__TransactionType_Online__AgeCategory_Adult']\n",
      "training.. LogisticRegression\n",
      "training.. DecisionTree\n",
      "training.. RandomForest\n",
      "training.. AdaBoost\n",
      "training.. GradientBoosting\n",
      "\n",
      "Training with features: ['Amount', 'TransactionType_POS', 'AgeCategory_Adult', 'AgeCategory_Late-Middle-Aged', 'AgeCategory_Senior', 'IsInternational_Yes__TransactionType_Online__AgeCategory_Middle-Aged']\n",
      "training.. LogisticRegression\n",
      "training.. DecisionTree\n",
      "training.. RandomForest\n",
      "training.. AdaBoost\n",
      "training.. GradientBoosting\n",
      "\n",
      "Training with features: ['Amount', 'TransactionType_POS', 'AgeCategory_Adult', 'AgeCategory_Middle-Aged', 'AgeCategory_Senior', 'IsInternational_Yes__TransactionType_Online__AgeCategory_Late-Middle-Aged']\n",
      "training.. LogisticRegression\n",
      "training.. DecisionTree\n",
      "training.. RandomForest\n",
      "training.. AdaBoost\n",
      "training.. GradientBoosting\n",
      "\n",
      "Training with features: ['Amount', 'TransactionType_POS', 'AgeCategory_Adult', 'AgeCategory_Middle-Aged', 'AgeCategory_Late-Middle-Aged', 'IsInternational_Yes__TransactionType_Online__AgeCategory_Senior']\n",
      "training.. LogisticRegression\n",
      "training.. DecisionTree\n",
      "training.. RandomForest\n",
      "training.. AdaBoost\n",
      "training.. GradientBoosting\n",
      "Skipping IsInternational_Yes__TransactionType_POS__AgeCategory_Adult — all zeros\n",
      "\n",
      "Training with features: ['Amount', 'TransactionType_Online', 'AgeCategory_Adult', 'AgeCategory_Late-Middle-Aged', 'AgeCategory_Senior', 'IsInternational_Yes__TransactionType_POS__AgeCategory_Middle-Aged']\n",
      "training.. LogisticRegression\n",
      "training.. DecisionTree\n",
      "training.. RandomForest\n",
      "training.. AdaBoost\n",
      "training.. GradientBoosting\n",
      "\n",
      "Training with features: ['Amount', 'TransactionType_Online', 'AgeCategory_Adult', 'AgeCategory_Middle-Aged', 'AgeCategory_Senior', 'IsInternational_Yes__TransactionType_POS__AgeCategory_Late-Middle-Aged']\n",
      "training.. LogisticRegression\n",
      "training.. DecisionTree\n",
      "training.. RandomForest\n",
      "training.. AdaBoost\n",
      "training.. GradientBoosting\n",
      "\n",
      "Training with features: ['Amount', 'TransactionType_Online', 'AgeCategory_Adult', 'AgeCategory_Middle-Aged', 'AgeCategory_Late-Middle-Aged', 'IsInternational_Yes__TransactionType_POS__AgeCategory_Senior']\n",
      "training.. LogisticRegression\n",
      "training.. DecisionTree\n",
      "training.. RandomForest\n",
      "training.. AdaBoost\n",
      "training.. GradientBoosting\n"
     ]
    }
   ],
   "source": [
    "# pre-processed data\n",
    "fraud_f5 = Create_Columns(fraud)\n",
    "\n",
    "all_results5 = []\n",
    "\n",
    "# Base categories\n",
    "international5 = ['IsInternational_Yes']\n",
    "age_features5 = ['AgeCategory_Adult', 'AgeCategory_Middle-Aged', \n",
    "                 'AgeCategory_Late-Middle-Aged', 'AgeCategory_Senior']\n",
    "txn_features5 = ['TransactionType_Online', 'TransactionType_POS']\n",
    "\n",
    "# Generate all 3-way combinations: Intl × Txn × Age\n",
    "three_way_combos = list(product(international5, txn_features5, age_features5))\n",
    "\n",
    "for feat_combo in three_way_combos:\n",
    "    fraud_temp = fraud_f5.copy()\n",
    "\n",
    "    interaction_name = '__'.join(feat_combo)\n",
    "    fraud_temp[interaction_name] = fraud_temp[feat_combo[0]]\n",
    "    for f in feat_combo[1:]:\n",
    "        fraud_temp[interaction_name] *= fraud_temp[f]\n",
    "\n",
    "    # Skip if the interaction is all 0s\n",
    "    if fraud_temp[interaction_name].sum() == 0:\n",
    "        print(f\"Skipping {interaction_name} — all zeros\")\n",
    "        continue\n",
    "\n",
    "    # Drop only the three features used\n",
    "    fraud_temp = fraud_temp.drop(columns=list(feat_combo), errors='ignore')\n",
    "\n",
    "    selected_features = [col for col in fraud_temp.columns if col != 'FraudReported']\n",
    "\n",
    "    print(f\"\\nTraining with features: {selected_features}\")\n",
    "\n",
    "    # Train the model\n",
    "    result_df5 = Training(fraud_temp, select_cols=selected_features)\n",
    "    result_df5['Features'] = [selected_features] * len(result_df5)\n",
    "\n",
    "    all_results5.append(result_df5)\n",
    "\n",
    "    all_results5.append(result_df5)\n",
    "\n",
    "# Final combined results\n",
    "final_results5 = pd.concat(all_results5).reset_index(drop=True)"
   ]
  },
  {
   "cell_type": "code",
   "execution_count": 144,
   "id": "a9257895-a52a-45f4-ae01-a741cb31a197",
   "metadata": {},
   "outputs": [
    {
     "data": {
      "text/html": [
       "<div>\n",
       "<style scoped>\n",
       "    .dataframe tbody tr th:only-of-type {\n",
       "        vertical-align: middle;\n",
       "    }\n",
       "\n",
       "    .dataframe tbody tr th {\n",
       "        vertical-align: top;\n",
       "    }\n",
       "\n",
       "    .dataframe thead th {\n",
       "        text-align: right;\n",
       "    }\n",
       "</style>\n",
       "<table border=\"1\" class=\"dataframe\">\n",
       "  <thead>\n",
       "    <tr style=\"text-align: right;\">\n",
       "      <th></th>\n",
       "      <th>Model</th>\n",
       "      <th>BestParams</th>\n",
       "      <th>CV_acc_Score</th>\n",
       "      <th>Test_acc_Score</th>\n",
       "      <th>Features</th>\n",
       "    </tr>\n",
       "  </thead>\n",
       "  <tbody>\n",
       "    <tr>\n",
       "      <th>0</th>\n",
       "      <td>LogisticRegression</td>\n",
       "      <td>{'C': 0.01, 'penalty': 'l2', 'random_state': 4...</td>\n",
       "      <td>0.565972</td>\n",
       "      <td>0.6</td>\n",
       "      <td>[Amount, TransactionType_POS, AgeCategory_Midd...</td>\n",
       "    </tr>\n",
       "    <tr>\n",
       "      <th>15</th>\n",
       "      <td>LogisticRegression</td>\n",
       "      <td>{'C': 0.01, 'penalty': 'l2', 'random_state': 4...</td>\n",
       "      <td>0.510417</td>\n",
       "      <td>0.6</td>\n",
       "      <td>[Amount, TransactionType_POS, AgeCategory_Adul...</td>\n",
       "    </tr>\n",
       "    <tr>\n",
       "      <th>65</th>\n",
       "      <td>LogisticRegression</td>\n",
       "      <td>{'C': 0.01, 'penalty': 'l2', 'random_state': 4...</td>\n",
       "      <td>0.482639</td>\n",
       "      <td>0.6</td>\n",
       "      <td>[Amount, TransactionType_Online, AgeCategory_A...</td>\n",
       "    </tr>\n",
       "    <tr>\n",
       "      <th>60</th>\n",
       "      <td>LogisticRegression</td>\n",
       "      <td>{'C': 0.01, 'penalty': 'l2', 'random_state': 4...</td>\n",
       "      <td>0.482639</td>\n",
       "      <td>0.6</td>\n",
       "      <td>[Amount, TransactionType_Online, AgeCategory_A...</td>\n",
       "    </tr>\n",
       "    <tr>\n",
       "      <th>55</th>\n",
       "      <td>LogisticRegression</td>\n",
       "      <td>{'C': 0.01, 'penalty': 'l2', 'random_state': 4...</td>\n",
       "      <td>0.482639</td>\n",
       "      <td>0.6</td>\n",
       "      <td>[Amount, TransactionType_Online, AgeCategory_A...</td>\n",
       "    </tr>\n",
       "  </tbody>\n",
       "</table>\n",
       "</div>"
      ],
      "text/plain": [
       "                 Model                                         BestParams  \\\n",
       "0   LogisticRegression  {'C': 0.01, 'penalty': 'l2', 'random_state': 4...   \n",
       "15  LogisticRegression  {'C': 0.01, 'penalty': 'l2', 'random_state': 4...   \n",
       "65  LogisticRegression  {'C': 0.01, 'penalty': 'l2', 'random_state': 4...   \n",
       "60  LogisticRegression  {'C': 0.01, 'penalty': 'l2', 'random_state': 4...   \n",
       "55  LogisticRegression  {'C': 0.01, 'penalty': 'l2', 'random_state': 4...   \n",
       "\n",
       "    CV_acc_Score  Test_acc_Score  \\\n",
       "0       0.565972             0.6   \n",
       "15      0.510417             0.6   \n",
       "65      0.482639             0.6   \n",
       "60      0.482639             0.6   \n",
       "55      0.482639             0.6   \n",
       "\n",
       "                                             Features  \n",
       "0   [Amount, TransactionType_POS, AgeCategory_Midd...  \n",
       "15  [Amount, TransactionType_POS, AgeCategory_Adul...  \n",
       "65  [Amount, TransactionType_Online, AgeCategory_A...  \n",
       "60  [Amount, TransactionType_Online, AgeCategory_A...  \n",
       "55  [Amount, TransactionType_Online, AgeCategory_A...  "
      ]
     },
     "execution_count": 144,
     "metadata": {},
     "output_type": "execute_result"
    }
   ],
   "source": [
    "final_results5.sort_values(by=\"Test_acc_Score\", ascending=False).head(5)"
   ]
  },
  {
   "cell_type": "code",
   "execution_count": 135,
   "id": "1fa25223-8882-49b2-86df-6cf7cdcdc77d",
   "metadata": {},
   "outputs": [
    {
     "name": "stdout",
     "output_type": "stream",
     "text": [
      "FraudReported\n",
      "1    0.58\n",
      "0    0.42\n",
      "Name: proportion, dtype: float64\n"
     ]
    }
   ],
   "source": [
    "print(fraud_f5['FraudReported'].value_counts(normalize=True))"
   ]
  },
  {
   "cell_type": "code",
   "execution_count": null,
   "id": "825d8a85-e6c2-4272-aaca-a231fcd8f06a",
   "metadata": {},
   "outputs": [],
   "source": []
  }
 ],
 "metadata": {
  "kernelspec": {
   "display_name": "Python 3 (ipykernel)",
   "language": "python",
   "name": "python3"
  },
  "language_info": {
   "codemirror_mode": {
    "name": "ipython",
    "version": 3
   },
   "file_extension": ".py",
   "mimetype": "text/x-python",
   "name": "python",
   "nbconvert_exporter": "python",
   "pygments_lexer": "ipython3",
   "version": "3.12.4"
  }
 },
 "nbformat": 4,
 "nbformat_minor": 5
}
